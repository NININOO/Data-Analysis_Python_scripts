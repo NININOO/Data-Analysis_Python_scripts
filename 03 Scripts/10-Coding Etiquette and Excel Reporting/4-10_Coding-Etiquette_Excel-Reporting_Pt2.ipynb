{
 "cells": [
  {
   "cell_type": "markdown",
   "id": "71718bdd",
   "metadata": {},
   "source": [
    "# 4.10 Coding Etiquette & Excel Reporting - Part 1, Step 5"
   ]
  },
  {
   "cell_type": "markdown",
   "id": "3de69a7e",
   "metadata": {},
   "source": [
    "## List of Contents:\n",
    "### 01. Age Groups\n",
    "### 02. Income\n",
    "### 03. Departments\n",
    "### 04. Number of dependants\n",
    "### 05. Customer Profiles\n",
    "### 06. New Dataframe Export"
   ]
  },
  {
   "cell_type": "markdown",
   "id": "28185928",
   "metadata": {},
   "source": [
    "# 01.  Import data and libraries"
   ]
  },
  {
   "cell_type": "code",
   "execution_count": 1,
   "id": "6b29383a",
   "metadata": {},
   "outputs": [],
   "source": [
    "# Libraries\n",
    "\n",
    "import pandas as pd\n",
    "import numpy as np\n",
    "import os\n",
    "import matplotlib.pyplot as plt\n",
    "import seaborn as sns\n",
    "import scipy"
   ]
  },
  {
   "cell_type": "code",
   "execution_count": 2,
   "id": "dd931b52",
   "metadata": {},
   "outputs": [],
   "source": [
    "# Create path\n",
    "\n",
    "path=r'/Users/nikolinastekovic/Library/CloudStorage/OneDrive-Personal/CF DATA ANALYICS/Immerse/4-Python/Instacart Basket Analysis'"
   ]
  },
  {
   "cell_type": "code",
   "execution_count": 3,
   "id": "b2a41dad",
   "metadata": {},
   "outputs": [],
   "source": [
    "# Import dataframe with high-frequency customers\n",
    "\n",
    "instacard_basket_high = pd.read_pickle(os.path.join(path, '02 Data', 'Prepared Data', 'high_activity_customers.pkl'))"
   ]
  },
  {
   "cell_type": "code",
   "execution_count": 4,
   "id": "900b7bc8",
   "metadata": {},
   "outputs": [
    {
     "data": {
      "text/plain": [
       "(30964564, 34)"
      ]
     },
     "execution_count": 4,
     "metadata": {},
     "output_type": "execute_result"
    }
   ],
   "source": [
    "instacard_basket_high.shape"
   ]
  },
  {
   "cell_type": "code",
   "execution_count": 5,
   "id": "b09d7d67",
   "metadata": {},
   "outputs": [
    {
     "data": {
      "text/html": [
       "<div>\n",
       "<style scoped>\n",
       "    .dataframe tbody tr th:only-of-type {\n",
       "        vertical-align: middle;\n",
       "    }\n",
       "\n",
       "    .dataframe tbody tr th {\n",
       "        vertical-align: top;\n",
       "    }\n",
       "\n",
       "    .dataframe thead th {\n",
       "        text-align: right;\n",
       "    }\n",
       "</style>\n",
       "<table border=\"1\" class=\"dataframe\">\n",
       "  <thead>\n",
       "    <tr style=\"text-align: right;\">\n",
       "      <th></th>\n",
       "      <th>order_id</th>\n",
       "      <th>user_id</th>\n",
       "      <th>order_number</th>\n",
       "      <th>Day_of_order</th>\n",
       "      <th>order_hour_of_day</th>\n",
       "      <th>days_since_prior_order</th>\n",
       "      <th>new_customer</th>\n",
       "      <th>product_id</th>\n",
       "      <th>add_to_cart_order</th>\n",
       "      <th>reordered</th>\n",
       "      <th>...</th>\n",
       "      <th>frequency_flag</th>\n",
       "      <th>gender</th>\n",
       "      <th>state</th>\n",
       "      <th>age</th>\n",
       "      <th>date_joined</th>\n",
       "      <th>n_dependants</th>\n",
       "      <th>marital_status</th>\n",
       "      <th>income</th>\n",
       "      <th>region</th>\n",
       "      <th>customer_activity</th>\n",
       "    </tr>\n",
       "  </thead>\n",
       "  <tbody>\n",
       "    <tr>\n",
       "      <th>0</th>\n",
       "      <td>2539329</td>\n",
       "      <td>1</td>\n",
       "      <td>1</td>\n",
       "      <td>2</td>\n",
       "      <td>8</td>\n",
       "      <td>NaN</td>\n",
       "      <td>True</td>\n",
       "      <td>196</td>\n",
       "      <td>1</td>\n",
       "      <td>0</td>\n",
       "      <td>...</td>\n",
       "      <td>Non-frequent customer</td>\n",
       "      <td>Female</td>\n",
       "      <td>Alabama</td>\n",
       "      <td>31</td>\n",
       "      <td>2/17/2019</td>\n",
       "      <td>3</td>\n",
       "      <td>married</td>\n",
       "      <td>40423</td>\n",
       "      <td>South</td>\n",
       "      <td>high_activity</td>\n",
       "    </tr>\n",
       "    <tr>\n",
       "      <th>1</th>\n",
       "      <td>2398795</td>\n",
       "      <td>1</td>\n",
       "      <td>2</td>\n",
       "      <td>3</td>\n",
       "      <td>7</td>\n",
       "      <td>15.0</td>\n",
       "      <td>False</td>\n",
       "      <td>196</td>\n",
       "      <td>1</td>\n",
       "      <td>1</td>\n",
       "      <td>...</td>\n",
       "      <td>Non-frequent customer</td>\n",
       "      <td>Female</td>\n",
       "      <td>Alabama</td>\n",
       "      <td>31</td>\n",
       "      <td>2/17/2019</td>\n",
       "      <td>3</td>\n",
       "      <td>married</td>\n",
       "      <td>40423</td>\n",
       "      <td>South</td>\n",
       "      <td>high_activity</td>\n",
       "    </tr>\n",
       "    <tr>\n",
       "      <th>2</th>\n",
       "      <td>473747</td>\n",
       "      <td>1</td>\n",
       "      <td>3</td>\n",
       "      <td>3</td>\n",
       "      <td>12</td>\n",
       "      <td>21.0</td>\n",
       "      <td>False</td>\n",
       "      <td>196</td>\n",
       "      <td>1</td>\n",
       "      <td>1</td>\n",
       "      <td>...</td>\n",
       "      <td>Non-frequent customer</td>\n",
       "      <td>Female</td>\n",
       "      <td>Alabama</td>\n",
       "      <td>31</td>\n",
       "      <td>2/17/2019</td>\n",
       "      <td>3</td>\n",
       "      <td>married</td>\n",
       "      <td>40423</td>\n",
       "      <td>South</td>\n",
       "      <td>high_activity</td>\n",
       "    </tr>\n",
       "    <tr>\n",
       "      <th>3</th>\n",
       "      <td>2254736</td>\n",
       "      <td>1</td>\n",
       "      <td>4</td>\n",
       "      <td>4</td>\n",
       "      <td>7</td>\n",
       "      <td>29.0</td>\n",
       "      <td>False</td>\n",
       "      <td>196</td>\n",
       "      <td>1</td>\n",
       "      <td>1</td>\n",
       "      <td>...</td>\n",
       "      <td>Non-frequent customer</td>\n",
       "      <td>Female</td>\n",
       "      <td>Alabama</td>\n",
       "      <td>31</td>\n",
       "      <td>2/17/2019</td>\n",
       "      <td>3</td>\n",
       "      <td>married</td>\n",
       "      <td>40423</td>\n",
       "      <td>South</td>\n",
       "      <td>high_activity</td>\n",
       "    </tr>\n",
       "    <tr>\n",
       "      <th>4</th>\n",
       "      <td>431534</td>\n",
       "      <td>1</td>\n",
       "      <td>5</td>\n",
       "      <td>4</td>\n",
       "      <td>15</td>\n",
       "      <td>28.0</td>\n",
       "      <td>False</td>\n",
       "      <td>196</td>\n",
       "      <td>1</td>\n",
       "      <td>1</td>\n",
       "      <td>...</td>\n",
       "      <td>Non-frequent customer</td>\n",
       "      <td>Female</td>\n",
       "      <td>Alabama</td>\n",
       "      <td>31</td>\n",
       "      <td>2/17/2019</td>\n",
       "      <td>3</td>\n",
       "      <td>married</td>\n",
       "      <td>40423</td>\n",
       "      <td>South</td>\n",
       "      <td>high_activity</td>\n",
       "    </tr>\n",
       "  </tbody>\n",
       "</table>\n",
       "<p>5 rows × 34 columns</p>\n",
       "</div>"
      ],
      "text/plain": [
       "   order_id  user_id  order_number  Day_of_order  order_hour_of_day  \\\n",
       "0   2539329        1             1             2                  8   \n",
       "1   2398795        1             2             3                  7   \n",
       "2    473747        1             3             3                 12   \n",
       "3   2254736        1             4             4                  7   \n",
       "4    431534        1             5             4                 15   \n",
       "\n",
       "   days_since_prior_order  new_customer  product_id  add_to_cart_order  \\\n",
       "0                     NaN          True         196                  1   \n",
       "1                    15.0         False         196                  1   \n",
       "2                    21.0         False         196                  1   \n",
       "3                    29.0         False         196                  1   \n",
       "4                    28.0         False         196                  1   \n",
       "\n",
       "   reordered  ...         frequency_flag  gender    state  age date_joined  \\\n",
       "0          0  ...  Non-frequent customer  Female  Alabama   31   2/17/2019   \n",
       "1          1  ...  Non-frequent customer  Female  Alabama   31   2/17/2019   \n",
       "2          1  ...  Non-frequent customer  Female  Alabama   31   2/17/2019   \n",
       "3          1  ...  Non-frequent customer  Female  Alabama   31   2/17/2019   \n",
       "4          1  ...  Non-frequent customer  Female  Alabama   31   2/17/2019   \n",
       "\n",
       "  n_dependants marital_status income region  customer_activity  \n",
       "0            3        married  40423  South      high_activity  \n",
       "1            3        married  40423  South      high_activity  \n",
       "2            3        married  40423  South      high_activity  \n",
       "3            3        married  40423  South      high_activity  \n",
       "4            3        married  40423  South      high_activity  \n",
       "\n",
       "[5 rows x 34 columns]"
      ]
     },
     "execution_count": 5,
     "metadata": {},
     "output_type": "execute_result"
    }
   ],
   "source": [
    "instacard_basket_high.head()"
   ]
  },
  {
   "cell_type": "markdown",
   "id": "a98dba92",
   "metadata": {},
   "source": [
    "# 01. Age Groups"
   ]
  },
  {
   "cell_type": "code",
   "execution_count": 6,
   "id": "cb1483e9",
   "metadata": {},
   "outputs": [],
   "source": [
    "#  Insights into the distribution and characteristics of the 'age' column\n",
    "\n",
    "age_description = instacard_basket_high['age'].describe()"
   ]
  },
  {
   "cell_type": "code",
   "execution_count": 7,
   "id": "487fa3fb",
   "metadata": {},
   "outputs": [
    {
     "name": "stdout",
     "output_type": "stream",
     "text": [
      "count    3.096456e+07\n",
      "mean     4.946803e+01\n",
      "std      1.848528e+01\n",
      "min      1.800000e+01\n",
      "25%      3.300000e+01\n",
      "50%      4.900000e+01\n",
      "75%      6.500000e+01\n",
      "max      8.100000e+01\n",
      "Name: age, dtype: float64\n"
     ]
    }
   ],
   "source": [
    "print(age_description)"
   ]
  },
  {
   "cell_type": "markdown",
   "id": "6096dd99",
   "metadata": {},
   "source": [
    "Age group comparison between:\n",
    "Young adult (18-25 age), Adult (26-44 age), Middle-age (45-59 age), Old age (60 age and older)"
   ]
  },
  {
   "cell_type": "code",
   "execution_count": 8,
   "id": "974681ea",
   "metadata": {},
   "outputs": [],
   "source": [
    "# Adding a new column called 'age_groups' and populating it by using .loc function\n",
    "\n",
    "instacard_basket_high.loc[(instacard_basket_high['age']<=25), 'age_group']='Young Adult'\n",
    "\n",
    "instacard_basket_high.loc[(instacard_basket_high['age']>25)&(instacard_basket_high['age']<=45), 'age_group']='Adult'\n",
    "\n",
    "instacard_basket_high.loc[(instacard_basket_high['age']>45)&(instacard_basket_high['age']<=60), 'age_group']='Middle Age'\n",
    "\n",
    "instacard_basket_high.loc[(instacard_basket_high['age']>60), 'age_group']='Old Age'"
   ]
  },
  {
   "cell_type": "code",
   "execution_count": 9,
   "id": "64add672",
   "metadata": {},
   "outputs": [
    {
     "data": {
      "text/plain": [
       "age_group\n",
       "Old Age        10112607\n",
       "Adult           9702539\n",
       "Middle Age      7284900\n",
       "Young Adult     3864518\n",
       "Name: count, dtype: int64"
      ]
     },
     "execution_count": 9,
     "metadata": {},
     "output_type": "execute_result"
    }
   ],
   "source": [
    "# Check frequency \n",
    "\n",
    "instacard_basket_high['age_group'].value_counts(dropna=False)"
   ]
  },
  {
   "cell_type": "code",
   "execution_count": 10,
   "id": "8d152322",
   "metadata": {},
   "outputs": [
    {
     "data": {
      "text/plain": [
       "age  age_group  \n",
       "79   Old Age        508337\n",
       "49   Middle Age     507879\n",
       "48   Middle Age     506730\n",
       "31   Adult          506218\n",
       "64   Old Age        504832\n",
       "                     ...  \n",
       "60   Middle Age     461897\n",
       "36   Adult          460649\n",
       "66   Old Age        454604\n",
       "41   Adult          451269\n",
       "25   Young Adult    449324\n",
       "Name: count, Length: 64, dtype: int64"
      ]
     },
     "execution_count": 10,
     "metadata": {},
     "output_type": "execute_result"
    }
   ],
   "source": [
    "# Controlling the results\n",
    "\n",
    "instacard_basket_high[['age','age_group']].value_counts()"
   ]
  },
  {
   "cell_type": "markdown",
   "id": "d7992093",
   "metadata": {},
   "source": [
    "# 02. Income\n"
   ]
  },
  {
   "cell_type": "code",
   "execution_count": 11,
   "id": "796ebf11",
   "metadata": {},
   "outputs": [],
   "source": [
    "#  Insights into the distribution and characteristics of the 'income' column\n",
    "\n",
    "income_description = instacard_basket_high['income'].describe()"
   ]
  },
  {
   "cell_type": "code",
   "execution_count": 12,
   "id": "6b0729e1",
   "metadata": {},
   "outputs": [
    {
     "name": "stdout",
     "output_type": "stream",
     "text": [
      "count    3.096456e+07\n",
      "mean     9.967587e+04\n",
      "std      4.314187e+04\n",
      "min      2.590300e+04\n",
      "25%      6.729200e+04\n",
      "50%      9.676500e+04\n",
      "75%      1.281020e+05\n",
      "max      5.939010e+05\n",
      "Name: income, dtype: float64\n"
     ]
    }
   ],
   "source": [
    "print(income_description)"
   ]
  },
  {
   "cell_type": "markdown",
   "id": "54e340ae",
   "metadata": {},
   "source": [
    "In the second quarter of 2023, middle-income Americans had annual incomes between $38133 and $114400, before adjusting for local cost of living and household size.\n",
    "\n",
    "Income Class comparison between: Lower Income, Middle Income and Upper Income."
   ]
  },
  {
   "cell_type": "code",
   "execution_count": 13,
   "id": "49e6f1e6",
   "metadata": {},
   "outputs": [],
   "source": [
    "# Adding a new column called 'income_class' and populating it by using .loc function\n",
    "\n",
    "instacard_basket_high.loc[(instacard_basket_high['income']<=38133), 'income_class']='Lower Income'\n",
    "\n",
    "instacard_basket_high.loc[(instacard_basket_high['income']>38133)&(instacard_basket_high['age']<=114400), 'income_class']='Middle Income'\n",
    "\n",
    "instacard_basket_high.loc[(instacard_basket_high['income']>114400), 'income_class']='Upper Income'"
   ]
  },
  {
   "cell_type": "code",
   "execution_count": 14,
   "id": "9977eb64",
   "metadata": {},
   "outputs": [
    {
     "data": {
      "text/plain": [
       "income_class\n",
       "Middle Income    19122764\n",
       "Upper Income     10505795\n",
       "Lower Income      1336005\n",
       "Name: count, dtype: int64"
      ]
     },
     "execution_count": 14,
     "metadata": {},
     "output_type": "execute_result"
    }
   ],
   "source": [
    "# Check frequency \n",
    "\n",
    "instacard_basket_high['income_class'].value_counts(dropna=False)"
   ]
  },
  {
   "cell_type": "code",
   "execution_count": 15,
   "id": "faf09695",
   "metadata": {},
   "outputs": [
    {
     "data": {
      "text/plain": [
       "income  income_class \n",
       "72344   Middle Income    4395\n",
       "112610  Middle Income    4242\n",
       "57501   Middle Income    4136\n",
       "115620  Upper Income     3831\n",
       "36163   Lower Income     3657\n",
       "                         ... \n",
       "36018   Lower Income        5\n",
       "128931  Upper Income        5\n",
       "33040   Lower Income        5\n",
       "90002   Middle Income       5\n",
       "147660  Upper Income        2\n",
       "Name: count, Length: 96069, dtype: int64"
      ]
     },
     "execution_count": 15,
     "metadata": {},
     "output_type": "execute_result"
    }
   ],
   "source": [
    "# Controlling the results\n",
    "\n",
    "instacard_basket_high[['income','income_class']].value_counts()"
   ]
  },
  {
   "cell_type": "markdown",
   "id": "86e9d9d8",
   "metadata": {},
   "source": [
    "# 03. Departments"
   ]
  },
  {
   "cell_type": "code",
   "execution_count": 16,
   "id": "5d1f10d1",
   "metadata": {},
   "outputs": [],
   "source": [
    "# Importing department data\n",
    "\n",
    "dept = pd.read_csv(os.path.join(path, '02 Data', 'Prepared Data', 'departments_wrangled.csv'), index_col = False)"
   ]
  },
  {
   "cell_type": "code",
   "execution_count": 17,
   "id": "f14baada",
   "metadata": {},
   "outputs": [
    {
     "data": {
      "text/html": [
       "<div>\n",
       "<style scoped>\n",
       "    .dataframe tbody tr th:only-of-type {\n",
       "        vertical-align: middle;\n",
       "    }\n",
       "\n",
       "    .dataframe tbody tr th {\n",
       "        vertical-align: top;\n",
       "    }\n",
       "\n",
       "    .dataframe thead th {\n",
       "        text-align: right;\n",
       "    }\n",
       "</style>\n",
       "<table border=\"1\" class=\"dataframe\">\n",
       "  <thead>\n",
       "    <tr style=\"text-align: right;\">\n",
       "      <th></th>\n",
       "      <th>Unnamed: 0</th>\n",
       "      <th>department</th>\n",
       "    </tr>\n",
       "  </thead>\n",
       "  <tbody>\n",
       "    <tr>\n",
       "      <th>0</th>\n",
       "      <td>1</td>\n",
       "      <td>frozen</td>\n",
       "    </tr>\n",
       "    <tr>\n",
       "      <th>1</th>\n",
       "      <td>2</td>\n",
       "      <td>other</td>\n",
       "    </tr>\n",
       "    <tr>\n",
       "      <th>2</th>\n",
       "      <td>3</td>\n",
       "      <td>bakery</td>\n",
       "    </tr>\n",
       "    <tr>\n",
       "      <th>3</th>\n",
       "      <td>4</td>\n",
       "      <td>produce</td>\n",
       "    </tr>\n",
       "    <tr>\n",
       "      <th>4</th>\n",
       "      <td>5</td>\n",
       "      <td>alcohol</td>\n",
       "    </tr>\n",
       "    <tr>\n",
       "      <th>5</th>\n",
       "      <td>6</td>\n",
       "      <td>international</td>\n",
       "    </tr>\n",
       "    <tr>\n",
       "      <th>6</th>\n",
       "      <td>7</td>\n",
       "      <td>beverages</td>\n",
       "    </tr>\n",
       "    <tr>\n",
       "      <th>7</th>\n",
       "      <td>8</td>\n",
       "      <td>pets</td>\n",
       "    </tr>\n",
       "    <tr>\n",
       "      <th>8</th>\n",
       "      <td>9</td>\n",
       "      <td>dry goods pasta</td>\n",
       "    </tr>\n",
       "    <tr>\n",
       "      <th>9</th>\n",
       "      <td>10</td>\n",
       "      <td>bulk</td>\n",
       "    </tr>\n",
       "    <tr>\n",
       "      <th>10</th>\n",
       "      <td>11</td>\n",
       "      <td>personal care</td>\n",
       "    </tr>\n",
       "    <tr>\n",
       "      <th>11</th>\n",
       "      <td>12</td>\n",
       "      <td>meat seafood</td>\n",
       "    </tr>\n",
       "    <tr>\n",
       "      <th>12</th>\n",
       "      <td>13</td>\n",
       "      <td>pantry</td>\n",
       "    </tr>\n",
       "    <tr>\n",
       "      <th>13</th>\n",
       "      <td>14</td>\n",
       "      <td>breakfast</td>\n",
       "    </tr>\n",
       "    <tr>\n",
       "      <th>14</th>\n",
       "      <td>15</td>\n",
       "      <td>canned goods</td>\n",
       "    </tr>\n",
       "    <tr>\n",
       "      <th>15</th>\n",
       "      <td>16</td>\n",
       "      <td>dairy eggs</td>\n",
       "    </tr>\n",
       "    <tr>\n",
       "      <th>16</th>\n",
       "      <td>17</td>\n",
       "      <td>household</td>\n",
       "    </tr>\n",
       "    <tr>\n",
       "      <th>17</th>\n",
       "      <td>18</td>\n",
       "      <td>babies</td>\n",
       "    </tr>\n",
       "    <tr>\n",
       "      <th>18</th>\n",
       "      <td>19</td>\n",
       "      <td>snacks</td>\n",
       "    </tr>\n",
       "    <tr>\n",
       "      <th>19</th>\n",
       "      <td>20</td>\n",
       "      <td>deli</td>\n",
       "    </tr>\n",
       "    <tr>\n",
       "      <th>20</th>\n",
       "      <td>21</td>\n",
       "      <td>missing</td>\n",
       "    </tr>\n",
       "  </tbody>\n",
       "</table>\n",
       "</div>"
      ],
      "text/plain": [
       "    Unnamed: 0       department\n",
       "0            1           frozen\n",
       "1            2            other\n",
       "2            3           bakery\n",
       "3            4          produce\n",
       "4            5          alcohol\n",
       "5            6    international\n",
       "6            7        beverages\n",
       "7            8             pets\n",
       "8            9  dry goods pasta\n",
       "9           10             bulk\n",
       "10          11    personal care\n",
       "11          12     meat seafood\n",
       "12          13           pantry\n",
       "13          14        breakfast\n",
       "14          15     canned goods\n",
       "15          16       dairy eggs\n",
       "16          17        household\n",
       "17          18           babies\n",
       "18          19           snacks\n",
       "19          20             deli\n",
       "20          21          missing"
      ]
     },
     "execution_count": 17,
     "metadata": {},
     "output_type": "execute_result"
    }
   ],
   "source": [
    "dept"
   ]
  },
  {
   "cell_type": "code",
   "execution_count": 18,
   "id": "0605e9b3",
   "metadata": {},
   "outputs": [],
   "source": [
    "# Rename first column\n",
    "\n",
    "dept.rename(columns={'Unnamed: 0': 'department_id'}, inplace=True)"
   ]
  },
  {
   "cell_type": "code",
   "execution_count": 19,
   "id": "5f1d400d",
   "metadata": {},
   "outputs": [],
   "source": [
    "# Merging the departments dataframe with the high activity customer dataframe\n",
    "\n",
    "instacard_basket_merged = instacard_basket_high.merge(dept, on = 'department_id')"
   ]
  },
  {
   "cell_type": "code",
   "execution_count": 20,
   "id": "8a1f9952",
   "metadata": {},
   "outputs": [
    {
     "data": {
      "text/html": [
       "<div>\n",
       "<style scoped>\n",
       "    .dataframe tbody tr th:only-of-type {\n",
       "        vertical-align: middle;\n",
       "    }\n",
       "\n",
       "    .dataframe tbody tr th {\n",
       "        vertical-align: top;\n",
       "    }\n",
       "\n",
       "    .dataframe thead th {\n",
       "        text-align: right;\n",
       "    }\n",
       "</style>\n",
       "<table border=\"1\" class=\"dataframe\">\n",
       "  <thead>\n",
       "    <tr style=\"text-align: right;\">\n",
       "      <th></th>\n",
       "      <th>order_id</th>\n",
       "      <th>user_id</th>\n",
       "      <th>order_number</th>\n",
       "      <th>Day_of_order</th>\n",
       "      <th>order_hour_of_day</th>\n",
       "      <th>days_since_prior_order</th>\n",
       "      <th>new_customer</th>\n",
       "      <th>product_id</th>\n",
       "      <th>add_to_cart_order</th>\n",
       "      <th>reordered</th>\n",
       "      <th>...</th>\n",
       "      <th>age</th>\n",
       "      <th>date_joined</th>\n",
       "      <th>n_dependants</th>\n",
       "      <th>marital_status</th>\n",
       "      <th>income</th>\n",
       "      <th>region</th>\n",
       "      <th>customer_activity</th>\n",
       "      <th>age_group</th>\n",
       "      <th>income_class</th>\n",
       "      <th>department</th>\n",
       "    </tr>\n",
       "  </thead>\n",
       "  <tbody>\n",
       "    <tr>\n",
       "      <th>0</th>\n",
       "      <td>2539329</td>\n",
       "      <td>1</td>\n",
       "      <td>1</td>\n",
       "      <td>2</td>\n",
       "      <td>8</td>\n",
       "      <td>NaN</td>\n",
       "      <td>True</td>\n",
       "      <td>196</td>\n",
       "      <td>1</td>\n",
       "      <td>0</td>\n",
       "      <td>...</td>\n",
       "      <td>31</td>\n",
       "      <td>2/17/2019</td>\n",
       "      <td>3</td>\n",
       "      <td>married</td>\n",
       "      <td>40423</td>\n",
       "      <td>South</td>\n",
       "      <td>high_activity</td>\n",
       "      <td>Adult</td>\n",
       "      <td>Middle Income</td>\n",
       "      <td>beverages</td>\n",
       "    </tr>\n",
       "    <tr>\n",
       "      <th>1</th>\n",
       "      <td>2398795</td>\n",
       "      <td>1</td>\n",
       "      <td>2</td>\n",
       "      <td>3</td>\n",
       "      <td>7</td>\n",
       "      <td>15.0</td>\n",
       "      <td>False</td>\n",
       "      <td>196</td>\n",
       "      <td>1</td>\n",
       "      <td>1</td>\n",
       "      <td>...</td>\n",
       "      <td>31</td>\n",
       "      <td>2/17/2019</td>\n",
       "      <td>3</td>\n",
       "      <td>married</td>\n",
       "      <td>40423</td>\n",
       "      <td>South</td>\n",
       "      <td>high_activity</td>\n",
       "      <td>Adult</td>\n",
       "      <td>Middle Income</td>\n",
       "      <td>beverages</td>\n",
       "    </tr>\n",
       "    <tr>\n",
       "      <th>2</th>\n",
       "      <td>473747</td>\n",
       "      <td>1</td>\n",
       "      <td>3</td>\n",
       "      <td>3</td>\n",
       "      <td>12</td>\n",
       "      <td>21.0</td>\n",
       "      <td>False</td>\n",
       "      <td>196</td>\n",
       "      <td>1</td>\n",
       "      <td>1</td>\n",
       "      <td>...</td>\n",
       "      <td>31</td>\n",
       "      <td>2/17/2019</td>\n",
       "      <td>3</td>\n",
       "      <td>married</td>\n",
       "      <td>40423</td>\n",
       "      <td>South</td>\n",
       "      <td>high_activity</td>\n",
       "      <td>Adult</td>\n",
       "      <td>Middle Income</td>\n",
       "      <td>beverages</td>\n",
       "    </tr>\n",
       "    <tr>\n",
       "      <th>3</th>\n",
       "      <td>2254736</td>\n",
       "      <td>1</td>\n",
       "      <td>4</td>\n",
       "      <td>4</td>\n",
       "      <td>7</td>\n",
       "      <td>29.0</td>\n",
       "      <td>False</td>\n",
       "      <td>196</td>\n",
       "      <td>1</td>\n",
       "      <td>1</td>\n",
       "      <td>...</td>\n",
       "      <td>31</td>\n",
       "      <td>2/17/2019</td>\n",
       "      <td>3</td>\n",
       "      <td>married</td>\n",
       "      <td>40423</td>\n",
       "      <td>South</td>\n",
       "      <td>high_activity</td>\n",
       "      <td>Adult</td>\n",
       "      <td>Middle Income</td>\n",
       "      <td>beverages</td>\n",
       "    </tr>\n",
       "    <tr>\n",
       "      <th>4</th>\n",
       "      <td>431534</td>\n",
       "      <td>1</td>\n",
       "      <td>5</td>\n",
       "      <td>4</td>\n",
       "      <td>15</td>\n",
       "      <td>28.0</td>\n",
       "      <td>False</td>\n",
       "      <td>196</td>\n",
       "      <td>1</td>\n",
       "      <td>1</td>\n",
       "      <td>...</td>\n",
       "      <td>31</td>\n",
       "      <td>2/17/2019</td>\n",
       "      <td>3</td>\n",
       "      <td>married</td>\n",
       "      <td>40423</td>\n",
       "      <td>South</td>\n",
       "      <td>high_activity</td>\n",
       "      <td>Adult</td>\n",
       "      <td>Middle Income</td>\n",
       "      <td>beverages</td>\n",
       "    </tr>\n",
       "  </tbody>\n",
       "</table>\n",
       "<p>5 rows × 37 columns</p>\n",
       "</div>"
      ],
      "text/plain": [
       "   order_id  user_id  order_number  Day_of_order  order_hour_of_day  \\\n",
       "0   2539329        1             1             2                  8   \n",
       "1   2398795        1             2             3                  7   \n",
       "2    473747        1             3             3                 12   \n",
       "3   2254736        1             4             4                  7   \n",
       "4    431534        1             5             4                 15   \n",
       "\n",
       "   days_since_prior_order  new_customer  product_id  add_to_cart_order  \\\n",
       "0                     NaN          True         196                  1   \n",
       "1                    15.0         False         196                  1   \n",
       "2                    21.0         False         196                  1   \n",
       "3                    29.0         False         196                  1   \n",
       "4                    28.0         False         196                  1   \n",
       "\n",
       "   reordered  ... age  date_joined  n_dependants  marital_status income  \\\n",
       "0          0  ...  31    2/17/2019             3         married  40423   \n",
       "1          1  ...  31    2/17/2019             3         married  40423   \n",
       "2          1  ...  31    2/17/2019             3         married  40423   \n",
       "3          1  ...  31    2/17/2019             3         married  40423   \n",
       "4          1  ...  31    2/17/2019             3         married  40423   \n",
       "\n",
       "  region customer_activity age_group   income_class  department  \n",
       "0  South     high_activity     Adult  Middle Income   beverages  \n",
       "1  South     high_activity     Adult  Middle Income   beverages  \n",
       "2  South     high_activity     Adult  Middle Income   beverages  \n",
       "3  South     high_activity     Adult  Middle Income   beverages  \n",
       "4  South     high_activity     Adult  Middle Income   beverages  \n",
       "\n",
       "[5 rows x 37 columns]"
      ]
     },
     "execution_count": 20,
     "metadata": {},
     "output_type": "execute_result"
    }
   ],
   "source": [
    "instacard_basket_merged.head()"
   ]
  },
  {
   "cell_type": "code",
   "execution_count": 21,
   "id": "f029347b",
   "metadata": {},
   "outputs": [
    {
     "data": {
      "text/plain": [
       "department\n",
       "produce            9079273\n",
       "dairy eggs         5177182\n",
       "snacks             2766406\n",
       "beverages          2571901\n",
       "frozen             2121731\n",
       "pantry             1782705\n",
       "bakery             1120828\n",
       "canned goods       1012074\n",
       "deli               1003834\n",
       "dry goods pasta     822136\n",
       "household           699857\n",
       "meat seafood        674781\n",
       "breakfast           670850\n",
       "personal care       424306\n",
       "babies              410392\n",
       "international       255991\n",
       "alcohol             144627\n",
       "pets                 93060\n",
       "missing              64768\n",
       "other                34411\n",
       "bulk                 33451\n",
       "Name: count, dtype: int64"
      ]
     },
     "execution_count": 21,
     "metadata": {},
     "output_type": "execute_result"
    }
   ],
   "source": [
    "# Check frequency \n",
    "\n",
    "instacard_basket_merged['department'].value_counts(dropna=False)"
   ]
  },
  {
   "cell_type": "markdown",
   "id": "624b8fe6",
   "metadata": {},
   "source": [
    "Based on the departments we can differentiate 3 main groups: Food, Household&Personal, Other."
   ]
  },
  {
   "cell_type": "code",
   "execution_count": 22,
   "id": "d350cc07",
   "metadata": {},
   "outputs": [],
   "source": [
    "# Create department_group variables that contain lists of strings from department list\n",
    "\n",
    "Food = ['produce', 'dairy eggs', 'snacks', 'beverages', 'frozen', 'pantry', 'bakery', 'canned goods', 'deli','dry goods pasta', 'meat seafood', 'breakfast']\n",
    "\n",
    "Household_and_Personal = ['household', 'personal care', 'babies', 'pets']\n",
    "\n",
    "Other = ['missing', 'other', 'bulk', 'international', 'alcohol']"
   ]
  },
  {
   "cell_type": "code",
   "execution_count": 23,
   "id": "717ef223",
   "metadata": {},
   "outputs": [],
   "source": [
    "instacard_basket_merged.loc[instacard_basket_merged['department'].isin(Food), 'department_group'] = 'Food'\n",
    "\n",
    "instacard_basket_merged.loc[instacard_basket_merged['department'].isin(Household_and_Personal), 'department_group'] = 'Household_and_Personal'\n",
    "\n",
    "instacard_basket_merged.loc[instacard_basket_merged['department'].isin(Other), 'department_group'] = 'Other'"
   ]
  },
  {
   "cell_type": "code",
   "execution_count": 24,
   "id": "3b1d07c3",
   "metadata": {},
   "outputs": [
    {
     "data": {
      "text/plain": [
       "department_group\n",
       "Food                      28803701\n",
       "Household_and_Personal     1627615\n",
       "Other                       533248\n",
       "Name: count, dtype: int64"
      ]
     },
     "execution_count": 24,
     "metadata": {},
     "output_type": "execute_result"
    }
   ],
   "source": [
    "# Check frequency \n",
    "\n",
    "instacard_basket_merged['department_group'].value_counts(dropna=False)"
   ]
  },
  {
   "cell_type": "markdown",
   "id": "7faaf9e7",
   "metadata": {},
   "source": [
    "# 04. Number of dependants"
   ]
  },
  {
   "cell_type": "code",
   "execution_count": 25,
   "id": "3089ba34",
   "metadata": {
    "scrolled": true
   },
   "outputs": [
    {
     "data": {
      "text/plain": [
       "n_dependants\n",
       "3    7772516\n",
       "0    7739681\n",
       "2    7733261\n",
       "1    7719106\n",
       "Name: count, dtype: int64"
      ]
     },
     "execution_count": 25,
     "metadata": {},
     "output_type": "execute_result"
    }
   ],
   "source": [
    "# Check frequency  'n_dependants' \n",
    "\n",
    "instacard_basket_merged['n_dependants' ].value_counts(dropna=False)"
   ]
  },
  {
   "cell_type": "markdown",
   "id": "fc7d33c5",
   "metadata": {},
   "source": [
    "Based on the size of the household we can differentiate: One-person houshold, Small Houshold (Up to 3 members) and Big Household (4 members and more)"
   ]
  },
  {
   "cell_type": "code",
   "execution_count": 26,
   "id": "d395cba1",
   "metadata": {},
   "outputs": [],
   "source": [
    "# Adding a new column called 'household_size' and populating it by using .loc function\n",
    "\n",
    "instacard_basket_merged.loc[(instacard_basket_merged['n_dependants']<=0), 'household_size']='One-person houshold'\n",
    "\n",
    "instacard_basket_merged.loc[(instacard_basket_merged['n_dependants']>0)&(instacard_basket_merged['n_dependants']<3), 'household_size']='Small Houshold'\n",
    "\n",
    "instacard_basket_merged.loc[(instacard_basket_merged['n_dependants']>=3), 'household_size']='Big Household'"
   ]
  },
  {
   "cell_type": "code",
   "execution_count": 27,
   "id": "34ba6ffe",
   "metadata": {},
   "outputs": [
    {
     "data": {
      "text/plain": [
       "household_size\n",
       "Small Houshold         15452367\n",
       "Big Household           7772516\n",
       "One-person houshold     7739681\n",
       "Name: count, dtype: int64"
      ]
     },
     "execution_count": 27,
     "metadata": {},
     "output_type": "execute_result"
    }
   ],
   "source": [
    "# Check frequency \n",
    "\n",
    "instacard_basket_merged ['household_size'].value_counts(dropna=False)"
   ]
  },
  {
   "cell_type": "markdown",
   "id": "0c14f4f7",
   "metadata": {},
   "source": [
    "# 05. Customer Profiles"
   ]
  },
  {
   "cell_type": "code",
   "execution_count": 28,
   "id": "53153f1a",
   "metadata": {},
   "outputs": [
    {
     "data": {
      "text/plain": [
       "marital_status\n",
       "married                             21743711\n",
       "single                               5094410\n",
       "divorced/widowed                     2645271\n",
       "living with parents and siblings     1481172\n",
       "Name: count, dtype: int64"
      ]
     },
     "execution_count": 28,
     "metadata": {},
     "output_type": "execute_result"
    }
   ],
   "source": [
    "# Check frequency 'marital_status' \n",
    "\n",
    "instacard_basket_merged['marital_status' ].value_counts(dropna=False)"
   ]
  },
  {
   "cell_type": "code",
   "execution_count": 29,
   "id": "4c83919a",
   "metadata": {},
   "outputs": [
    {
     "data": {
      "text/plain": [
       "gender\n",
       "Male      15586740\n",
       "Female    15377824\n",
       "Name: count, dtype: int64"
      ]
     },
     "execution_count": 29,
     "metadata": {},
     "output_type": "execute_result"
    }
   ],
   "source": [
    "# Check frequency 'gender' \n",
    "\n",
    "instacard_basket_merged['gender' ].value_counts(dropna=False)"
   ]
  },
  {
   "cell_type": "markdown",
   "id": "fb8a62b8",
   "metadata": {},
   "source": [
    "Based on created groups we can differentiate there profiles: Single w/o Children (female), Single w/o Children (male), Single w/ Children (female), Single w/ Children (male), 2+ Person Non-Family, Maried Couple w/ Children, Marrie Couple w/o children, Other Family"
   ]
  },
  {
   "cell_type": "code",
   "execution_count": 30,
   "id": "1287b2cf",
   "metadata": {},
   "outputs": [],
   "source": [
    "instacard_basket_merged.loc[(instacard_basket_merged['marital_status'] != 'married')  & (instacard_basket_merged['gender'] == 'Female') & (instacard_basket_merged['n_dependants'] ==0), 'customer profile'] = 'Single w/o Children (female)'\n",
    "\n",
    "instacard_basket_merged.loc[(instacard_basket_merged['marital_status'] != 'married')  & (instacard_basket_merged['gender'] == 'Male') & (instacard_basket_merged['n_dependants'] ==0), 'customer profile'] = 'Single w/o Children (male)'\n",
    "\n",
    "instacard_basket_merged.loc[(instacard_basket_merged['marital_status'] != 'married')  & (instacard_basket_merged['gender'] == 'Female') & (instacard_basket_merged['n_dependants'] >0), 'customer profile'] = 'Single Parent (female)'\n",
    "\n",
    "instacard_basket_merged.loc[(instacard_basket_merged['marital_status'] != 'married')  & (instacard_basket_merged['gender'] == 'Male') & (instacard_basket_merged['n_dependants'] >0), 'customer profile'] = 'Single Parent (male)'\n",
    "\n",
    "instacard_basket_merged.loc[(instacard_basket_merged['marital_status'] == 'married')  & (instacard_basket_merged['n_dependants'] >1), 'customer profile'] = 'Married Couple w/ Children'\n",
    "\n",
    "instacard_basket_merged.loc[(instacard_basket_merged['marital_status'] == 'married') & (instacard_basket_merged['n_dependants'] ==1), 'customer profile'] = 'Married Couple w/o Children'"
   ]
  },
  {
   "cell_type": "code",
   "execution_count": 31,
   "id": "f39cd0d5",
   "metadata": {},
   "outputs": [
    {
     "data": {
      "text/plain": [
       "Index(['order_id', 'user_id', 'order_number', 'Day_of_order',\n",
       "       'order_hour_of_day', 'days_since_prior_order', 'new_customer',\n",
       "       'product_id', 'add_to_cart_order', 'reordered', 'product_name',\n",
       "       'aisle_id', 'department_id', 'prices', '_merge', 'price_range_loc',\n",
       "       'busiest_day', 'busiest_days', 'busiest_period_of_day', 'max_order',\n",
       "       'loyalty_flag', 'price_mean', 'spending_flag', 'median_days',\n",
       "       'frequency_flag', 'gender', 'state', 'age', 'date_joined',\n",
       "       'n_dependants', 'marital_status', 'income', 'region',\n",
       "       'customer_activity', 'age_group', 'income_class', 'department',\n",
       "       'department_group', 'household_size', 'customer profile'],\n",
       "      dtype='object')"
      ]
     },
     "execution_count": 31,
     "metadata": {},
     "output_type": "execute_result"
    }
   ],
   "source": [
    "# check columns\n",
    "\n",
    "instacard_basket_merged.columns"
   ]
  },
  {
   "cell_type": "code",
   "execution_count": 32,
   "id": "303fd75d",
   "metadata": {},
   "outputs": [
    {
     "data": {
      "text/html": [
       "<div>\n",
       "<style scoped>\n",
       "    .dataframe tbody tr th:only-of-type {\n",
       "        vertical-align: middle;\n",
       "    }\n",
       "\n",
       "    .dataframe tbody tr th {\n",
       "        vertical-align: top;\n",
       "    }\n",
       "\n",
       "    .dataframe thead th {\n",
       "        text-align: right;\n",
       "    }\n",
       "</style>\n",
       "<table border=\"1\" class=\"dataframe\">\n",
       "  <thead>\n",
       "    <tr style=\"text-align: right;\">\n",
       "      <th></th>\n",
       "      <th>order_id</th>\n",
       "      <th>user_id</th>\n",
       "      <th>order_number</th>\n",
       "      <th>Day_of_order</th>\n",
       "      <th>order_hour_of_day</th>\n",
       "      <th>days_since_prior_order</th>\n",
       "      <th>new_customer</th>\n",
       "      <th>product_id</th>\n",
       "      <th>add_to_cart_order</th>\n",
       "      <th>reordered</th>\n",
       "      <th>...</th>\n",
       "      <th>marital_status</th>\n",
       "      <th>income</th>\n",
       "      <th>region</th>\n",
       "      <th>customer_activity</th>\n",
       "      <th>age_group</th>\n",
       "      <th>income_class</th>\n",
       "      <th>department</th>\n",
       "      <th>department_group</th>\n",
       "      <th>household_size</th>\n",
       "      <th>customer profile</th>\n",
       "    </tr>\n",
       "  </thead>\n",
       "  <tbody>\n",
       "    <tr>\n",
       "      <th>0</th>\n",
       "      <td>2539329</td>\n",
       "      <td>1</td>\n",
       "      <td>1</td>\n",
       "      <td>2</td>\n",
       "      <td>8</td>\n",
       "      <td>NaN</td>\n",
       "      <td>True</td>\n",
       "      <td>196</td>\n",
       "      <td>1</td>\n",
       "      <td>0</td>\n",
       "      <td>...</td>\n",
       "      <td>married</td>\n",
       "      <td>40423</td>\n",
       "      <td>South</td>\n",
       "      <td>high_activity</td>\n",
       "      <td>Adult</td>\n",
       "      <td>Middle Income</td>\n",
       "      <td>beverages</td>\n",
       "      <td>Food</td>\n",
       "      <td>Big Household</td>\n",
       "      <td>Married Couple w/ Children</td>\n",
       "    </tr>\n",
       "    <tr>\n",
       "      <th>1</th>\n",
       "      <td>2398795</td>\n",
       "      <td>1</td>\n",
       "      <td>2</td>\n",
       "      <td>3</td>\n",
       "      <td>7</td>\n",
       "      <td>15.0</td>\n",
       "      <td>False</td>\n",
       "      <td>196</td>\n",
       "      <td>1</td>\n",
       "      <td>1</td>\n",
       "      <td>...</td>\n",
       "      <td>married</td>\n",
       "      <td>40423</td>\n",
       "      <td>South</td>\n",
       "      <td>high_activity</td>\n",
       "      <td>Adult</td>\n",
       "      <td>Middle Income</td>\n",
       "      <td>beverages</td>\n",
       "      <td>Food</td>\n",
       "      <td>Big Household</td>\n",
       "      <td>Married Couple w/ Children</td>\n",
       "    </tr>\n",
       "    <tr>\n",
       "      <th>2</th>\n",
       "      <td>473747</td>\n",
       "      <td>1</td>\n",
       "      <td>3</td>\n",
       "      <td>3</td>\n",
       "      <td>12</td>\n",
       "      <td>21.0</td>\n",
       "      <td>False</td>\n",
       "      <td>196</td>\n",
       "      <td>1</td>\n",
       "      <td>1</td>\n",
       "      <td>...</td>\n",
       "      <td>married</td>\n",
       "      <td>40423</td>\n",
       "      <td>South</td>\n",
       "      <td>high_activity</td>\n",
       "      <td>Adult</td>\n",
       "      <td>Middle Income</td>\n",
       "      <td>beverages</td>\n",
       "      <td>Food</td>\n",
       "      <td>Big Household</td>\n",
       "      <td>Married Couple w/ Children</td>\n",
       "    </tr>\n",
       "    <tr>\n",
       "      <th>3</th>\n",
       "      <td>2254736</td>\n",
       "      <td>1</td>\n",
       "      <td>4</td>\n",
       "      <td>4</td>\n",
       "      <td>7</td>\n",
       "      <td>29.0</td>\n",
       "      <td>False</td>\n",
       "      <td>196</td>\n",
       "      <td>1</td>\n",
       "      <td>1</td>\n",
       "      <td>...</td>\n",
       "      <td>married</td>\n",
       "      <td>40423</td>\n",
       "      <td>South</td>\n",
       "      <td>high_activity</td>\n",
       "      <td>Adult</td>\n",
       "      <td>Middle Income</td>\n",
       "      <td>beverages</td>\n",
       "      <td>Food</td>\n",
       "      <td>Big Household</td>\n",
       "      <td>Married Couple w/ Children</td>\n",
       "    </tr>\n",
       "    <tr>\n",
       "      <th>4</th>\n",
       "      <td>431534</td>\n",
       "      <td>1</td>\n",
       "      <td>5</td>\n",
       "      <td>4</td>\n",
       "      <td>15</td>\n",
       "      <td>28.0</td>\n",
       "      <td>False</td>\n",
       "      <td>196</td>\n",
       "      <td>1</td>\n",
       "      <td>1</td>\n",
       "      <td>...</td>\n",
       "      <td>married</td>\n",
       "      <td>40423</td>\n",
       "      <td>South</td>\n",
       "      <td>high_activity</td>\n",
       "      <td>Adult</td>\n",
       "      <td>Middle Income</td>\n",
       "      <td>beverages</td>\n",
       "      <td>Food</td>\n",
       "      <td>Big Household</td>\n",
       "      <td>Married Couple w/ Children</td>\n",
       "    </tr>\n",
       "  </tbody>\n",
       "</table>\n",
       "<p>5 rows × 40 columns</p>\n",
       "</div>"
      ],
      "text/plain": [
       "   order_id  user_id  order_number  Day_of_order  order_hour_of_day  \\\n",
       "0   2539329        1             1             2                  8   \n",
       "1   2398795        1             2             3                  7   \n",
       "2    473747        1             3             3                 12   \n",
       "3   2254736        1             4             4                  7   \n",
       "4    431534        1             5             4                 15   \n",
       "\n",
       "   days_since_prior_order  new_customer  product_id  add_to_cart_order  \\\n",
       "0                     NaN          True         196                  1   \n",
       "1                    15.0         False         196                  1   \n",
       "2                    21.0         False         196                  1   \n",
       "3                    29.0         False         196                  1   \n",
       "4                    28.0         False         196                  1   \n",
       "\n",
       "   reordered  ... marital_status  income  region  customer_activity age_group  \\\n",
       "0          0  ...        married   40423   South      high_activity     Adult   \n",
       "1          1  ...        married   40423   South      high_activity     Adult   \n",
       "2          1  ...        married   40423   South      high_activity     Adult   \n",
       "3          1  ...        married   40423   South      high_activity     Adult   \n",
       "4          1  ...        married   40423   South      high_activity     Adult   \n",
       "\n",
       "    income_class department department_group household_size  \\\n",
       "0  Middle Income  beverages             Food  Big Household   \n",
       "1  Middle Income  beverages             Food  Big Household   \n",
       "2  Middle Income  beverages             Food  Big Household   \n",
       "3  Middle Income  beverages             Food  Big Household   \n",
       "4  Middle Income  beverages             Food  Big Household   \n",
       "\n",
       "             customer profile  \n",
       "0  Married Couple w/ Children  \n",
       "1  Married Couple w/ Children  \n",
       "2  Married Couple w/ Children  \n",
       "3  Married Couple w/ Children  \n",
       "4  Married Couple w/ Children  \n",
       "\n",
       "[5 rows x 40 columns]"
      ]
     },
     "execution_count": 32,
     "metadata": {},
     "output_type": "execute_result"
    }
   ],
   "source": [
    "# Check Output\n",
    "\n",
    "instacard_basket_merged.head()"
   ]
  },
  {
   "cell_type": "code",
   "execution_count": 33,
   "id": "6e2e5cd4",
   "metadata": {},
   "outputs": [
    {
     "data": {
      "text/plain": [
       "customer profile\n",
       "Married Couple w/ Children      14532650\n",
       "Married Couple w/o Children      7211061\n",
       "Single w/o Children (male)       3881398\n",
       "Single w/o Children (female)     3858283\n",
       "Single Parent (male)              757596\n",
       "Single Parent (female)            723576\n",
       "Name: count, dtype: int64"
      ]
     },
     "execution_count": 33,
     "metadata": {},
     "output_type": "execute_result"
    }
   ],
   "source": [
    "# Check frequency 'customer_profiles' \n",
    "\n",
    "instacard_basket_merged['customer profile'].value_counts(dropna=False)"
   ]
  },
  {
   "cell_type": "markdown",
   "id": "2099c485",
   "metadata": {},
   "source": [
    "# 06. Export New Dataframe"
   ]
  },
  {
   "cell_type": "code",
   "execution_count": 34,
   "id": "f9224f36",
   "metadata": {},
   "outputs": [],
   "source": [
    "# Exporting and saving dataframe\n",
    "\n",
    "instacard_basket_merged.to_pickle(os.path.join(path, '02 Data', 'Prepared Data', 'instacard_basket_profiles.pkl'))"
   ]
  },
  {
   "cell_type": "code",
   "execution_count": null,
   "id": "c05af187",
   "metadata": {},
   "outputs": [],
   "source": []
  }
 ],
 "metadata": {
  "kernelspec": {
   "display_name": "Python 3 (ipykernel)",
   "language": "python",
   "name": "python3"
  },
  "language_info": {
   "codemirror_mode": {
    "name": "ipython",
    "version": 3
   },
   "file_extension": ".py",
   "mimetype": "text/x-python",
   "name": "python",
   "nbconvert_exporter": "python",
   "pygments_lexer": "ipython3",
   "version": "3.11.4"
  }
 },
 "nbformat": 4,
 "nbformat_minor": 5
}
