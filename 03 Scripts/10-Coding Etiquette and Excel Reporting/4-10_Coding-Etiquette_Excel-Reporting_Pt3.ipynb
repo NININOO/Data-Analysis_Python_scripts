{
 "cells": [
  {
   "cell_type": "markdown",
   "id": "3217c73b",
   "metadata": {},
   "source": [
    "# 4.10 Coding Etiquette & Excel Reporting - Part 1, Step 6-8"
   ]
  },
  {
   "cell_type": "markdown",
   "id": "b88208f4",
   "metadata": {},
   "source": [
    "## List of Contents:\n",
    "### 01. Import data and libraries\n",
    "### 02. Create Sample\n",
    "### 03. Profile Distribution Visualisation\n",
    "### 04. Descriptive Analyse of Customer Profiles\n",
    "### 05. Regions and Department Analysis"
   ]
  },
  {
   "cell_type": "markdown",
   "id": "bbe497fb",
   "metadata": {},
   "source": [
    "# 01. Import data and libraries"
   ]
  },
  {
   "cell_type": "code",
   "execution_count": 86,
   "id": "2e4139d4",
   "metadata": {},
   "outputs": [],
   "source": [
    "# Libraries\n",
    "\n",
    "import pandas as pd\n",
    "import numpy as np\n",
    "import os\n",
    "import matplotlib.pyplot as plt\n",
    "import seaborn as sns\n",
    "import scipy"
   ]
  },
  {
   "cell_type": "code",
   "execution_count": 85,
   "id": "978dee38",
   "metadata": {},
   "outputs": [],
   "source": [
    "# Create path\n",
    "\n",
    "path=r'/Users/nikolinastekovic/Library/CloudStorage/OneDrive-Personal/CF DATA ANALYICS/Immerse/4-Python/Instacart Basket Analysis'"
   ]
  },
  {
   "cell_type": "code",
   "execution_count": 4,
   "id": "ce7365fd",
   "metadata": {},
   "outputs": [],
   "source": [
    "# Import dataframe from pt. 1, step 5\n",
    "\n",
    "instacard_basket_profiles = pd.read_pickle(os.path.join(path, '02 Data', 'Prepared Data', 'instacard_basket_profiles.pkl'))"
   ]
  },
  {
   "cell_type": "markdown",
   "id": "ae661b72",
   "metadata": {},
   "source": [
    "Note:  This dataset is focused only on High-activity customers, activity being based on the number of orders"
   ]
  },
  {
   "cell_type": "markdown",
   "id": "d46ef752",
   "metadata": {},
   "source": [
    "# 02. Create Sample"
   ]
  },
  {
   "cell_type": "markdown",
   "id": "3a628019",
   "metadata": {},
   "source": [
    "In order to generate visualisations faster, I will work with smaller sample created from the dataset"
   ]
  },
  {
   "cell_type": "code",
   "execution_count": 5,
   "id": "5a226dc4",
   "metadata": {},
   "outputs": [],
   "source": [
    "# create a random sample\n",
    "\n",
    "np.random.seed(4)\n",
    "dev = np.random.rand(len(instacard_basket_profiles)) <= 0.7"
   ]
  },
  {
   "cell_type": "code",
   "execution_count": 6,
   "id": "8695d407",
   "metadata": {},
   "outputs": [],
   "source": [
    "# create dataframe big and small\n",
    "\n",
    "big = instacard_basket_profiles[dev]\n",
    "small = instacard_basket_profiles[~dev]"
   ]
  },
  {
   "cell_type": "code",
   "execution_count": 7,
   "id": "ece5548a",
   "metadata": {},
   "outputs": [
    {
     "data": {
      "text/plain": [
       "30964564"
      ]
     },
     "execution_count": 7,
     "metadata": {},
     "output_type": "execute_result"
    }
   ],
   "source": [
    "# check - sum of rows\n",
    "len(big)+len(small)"
   ]
  },
  {
   "cell_type": "code",
   "execution_count": 8,
   "id": "e59f5cd1",
   "metadata": {},
   "outputs": [
    {
     "data": {
      "text/plain": [
       "30964564"
      ]
     },
     "execution_count": 8,
     "metadata": {},
     "output_type": "execute_result"
    }
   ],
   "source": [
    "# check - length of table\n",
    "len(instacard_basket_profiles)"
   ]
  },
  {
   "cell_type": "code",
   "execution_count": 9,
   "id": "d421ac2a",
   "metadata": {},
   "outputs": [
    {
     "data": {
      "text/html": [
       "<div>\n",
       "<style scoped>\n",
       "    .dataframe tbody tr th:only-of-type {\n",
       "        vertical-align: middle;\n",
       "    }\n",
       "\n",
       "    .dataframe tbody tr th {\n",
       "        vertical-align: top;\n",
       "    }\n",
       "\n",
       "    .dataframe thead th {\n",
       "        text-align: right;\n",
       "    }\n",
       "</style>\n",
       "<table border=\"1\" class=\"dataframe\">\n",
       "  <thead>\n",
       "    <tr style=\"text-align: right;\">\n",
       "      <th></th>\n",
       "      <th>order_id</th>\n",
       "      <th>user_id</th>\n",
       "      <th>order_number</th>\n",
       "      <th>Day_of_order</th>\n",
       "      <th>order_hour_of_day</th>\n",
       "      <th>days_since_prior_order</th>\n",
       "      <th>new_customer</th>\n",
       "      <th>product_id</th>\n",
       "      <th>add_to_cart_order</th>\n",
       "      <th>reordered</th>\n",
       "      <th>...</th>\n",
       "      <th>marital_status</th>\n",
       "      <th>income</th>\n",
       "      <th>region</th>\n",
       "      <th>customer_activity</th>\n",
       "      <th>age_group</th>\n",
       "      <th>income_class</th>\n",
       "      <th>department</th>\n",
       "      <th>department_group</th>\n",
       "      <th>household_size</th>\n",
       "      <th>customer profile</th>\n",
       "    </tr>\n",
       "  </thead>\n",
       "  <tbody>\n",
       "    <tr>\n",
       "      <th>0</th>\n",
       "      <td>2539329</td>\n",
       "      <td>1</td>\n",
       "      <td>1</td>\n",
       "      <td>2</td>\n",
       "      <td>8</td>\n",
       "      <td>NaN</td>\n",
       "      <td>True</td>\n",
       "      <td>196</td>\n",
       "      <td>1</td>\n",
       "      <td>0</td>\n",
       "      <td>...</td>\n",
       "      <td>married</td>\n",
       "      <td>40423</td>\n",
       "      <td>South</td>\n",
       "      <td>high_activity</td>\n",
       "      <td>Adult</td>\n",
       "      <td>Middle Income</td>\n",
       "      <td>beverages</td>\n",
       "      <td>Food</td>\n",
       "      <td>Big Household</td>\n",
       "      <td>Married Couple w/ Children</td>\n",
       "    </tr>\n",
       "    <tr>\n",
       "      <th>1</th>\n",
       "      <td>2398795</td>\n",
       "      <td>1</td>\n",
       "      <td>2</td>\n",
       "      <td>3</td>\n",
       "      <td>7</td>\n",
       "      <td>15.0</td>\n",
       "      <td>False</td>\n",
       "      <td>196</td>\n",
       "      <td>1</td>\n",
       "      <td>1</td>\n",
       "      <td>...</td>\n",
       "      <td>married</td>\n",
       "      <td>40423</td>\n",
       "      <td>South</td>\n",
       "      <td>high_activity</td>\n",
       "      <td>Adult</td>\n",
       "      <td>Middle Income</td>\n",
       "      <td>beverages</td>\n",
       "      <td>Food</td>\n",
       "      <td>Big Household</td>\n",
       "      <td>Married Couple w/ Children</td>\n",
       "    </tr>\n",
       "    <tr>\n",
       "      <th>2</th>\n",
       "      <td>473747</td>\n",
       "      <td>1</td>\n",
       "      <td>3</td>\n",
       "      <td>3</td>\n",
       "      <td>12</td>\n",
       "      <td>21.0</td>\n",
       "      <td>False</td>\n",
       "      <td>196</td>\n",
       "      <td>1</td>\n",
       "      <td>1</td>\n",
       "      <td>...</td>\n",
       "      <td>married</td>\n",
       "      <td>40423</td>\n",
       "      <td>South</td>\n",
       "      <td>high_activity</td>\n",
       "      <td>Adult</td>\n",
       "      <td>Middle Income</td>\n",
       "      <td>beverages</td>\n",
       "      <td>Food</td>\n",
       "      <td>Big Household</td>\n",
       "      <td>Married Couple w/ Children</td>\n",
       "    </tr>\n",
       "    <tr>\n",
       "      <th>3</th>\n",
       "      <td>2254736</td>\n",
       "      <td>1</td>\n",
       "      <td>4</td>\n",
       "      <td>4</td>\n",
       "      <td>7</td>\n",
       "      <td>29.0</td>\n",
       "      <td>False</td>\n",
       "      <td>196</td>\n",
       "      <td>1</td>\n",
       "      <td>1</td>\n",
       "      <td>...</td>\n",
       "      <td>married</td>\n",
       "      <td>40423</td>\n",
       "      <td>South</td>\n",
       "      <td>high_activity</td>\n",
       "      <td>Adult</td>\n",
       "      <td>Middle Income</td>\n",
       "      <td>beverages</td>\n",
       "      <td>Food</td>\n",
       "      <td>Big Household</td>\n",
       "      <td>Married Couple w/ Children</td>\n",
       "    </tr>\n",
       "    <tr>\n",
       "      <th>4</th>\n",
       "      <td>431534</td>\n",
       "      <td>1</td>\n",
       "      <td>5</td>\n",
       "      <td>4</td>\n",
       "      <td>15</td>\n",
       "      <td>28.0</td>\n",
       "      <td>False</td>\n",
       "      <td>196</td>\n",
       "      <td>1</td>\n",
       "      <td>1</td>\n",
       "      <td>...</td>\n",
       "      <td>married</td>\n",
       "      <td>40423</td>\n",
       "      <td>South</td>\n",
       "      <td>high_activity</td>\n",
       "      <td>Adult</td>\n",
       "      <td>Middle Income</td>\n",
       "      <td>beverages</td>\n",
       "      <td>Food</td>\n",
       "      <td>Big Household</td>\n",
       "      <td>Married Couple w/ Children</td>\n",
       "    </tr>\n",
       "  </tbody>\n",
       "</table>\n",
       "<p>5 rows × 40 columns</p>\n",
       "</div>"
      ],
      "text/plain": [
       "   order_id  user_id  order_number  Day_of_order  order_hour_of_day  \\\n",
       "0   2539329        1             1             2                  8   \n",
       "1   2398795        1             2             3                  7   \n",
       "2    473747        1             3             3                 12   \n",
       "3   2254736        1             4             4                  7   \n",
       "4    431534        1             5             4                 15   \n",
       "\n",
       "   days_since_prior_order  new_customer  product_id  add_to_cart_order  \\\n",
       "0                     NaN          True         196                  1   \n",
       "1                    15.0         False         196                  1   \n",
       "2                    21.0         False         196                  1   \n",
       "3                    29.0         False         196                  1   \n",
       "4                    28.0         False         196                  1   \n",
       "\n",
       "   reordered  ... marital_status  income  region  customer_activity age_group  \\\n",
       "0          0  ...        married   40423   South      high_activity     Adult   \n",
       "1          1  ...        married   40423   South      high_activity     Adult   \n",
       "2          1  ...        married   40423   South      high_activity     Adult   \n",
       "3          1  ...        married   40423   South      high_activity     Adult   \n",
       "4          1  ...        married   40423   South      high_activity     Adult   \n",
       "\n",
       "    income_class department department_group household_size  \\\n",
       "0  Middle Income  beverages             Food  Big Household   \n",
       "1  Middle Income  beverages             Food  Big Household   \n",
       "2  Middle Income  beverages             Food  Big Household   \n",
       "3  Middle Income  beverages             Food  Big Household   \n",
       "4  Middle Income  beverages             Food  Big Household   \n",
       "\n",
       "             customer profile  \n",
       "0  Married Couple w/ Children  \n",
       "1  Married Couple w/ Children  \n",
       "2  Married Couple w/ Children  \n",
       "3  Married Couple w/ Children  \n",
       "4  Married Couple w/ Children  \n",
       "\n",
       "[5 rows x 40 columns]"
      ]
     },
     "execution_count": 9,
     "metadata": {},
     "output_type": "execute_result"
    }
   ],
   "source": [
    "instacard_basket_profiles.head()"
   ]
  },
  {
   "cell_type": "markdown",
   "id": "2c61fcd8",
   "metadata": {},
   "source": [
    "# 03. Profile Distribution Visualisation"
   ]
  },
  {
   "cell_type": "code",
   "execution_count": 80,
   "id": "6999ce5e",
   "metadata": {},
   "outputs": [
    {
     "data": {
      "text/plain": [
       "Text(0, 0.5, 'Customer Profile')"
      ]
     },
     "execution_count": 80,
     "metadata": {},
     "output_type": "execute_result"
    },
    {
     "data": {
      "image/png": "[encoded data removed]",
      "text/plain": [
       "<Figure size 640x480 with 1 Axes>"
      ]
     },
     "metadata": {},
     "output_type": "display_data"
    }
   ],
   "source": [
    "# Bar chart of distribution of profiles\n",
    "\n",
    "bar_cust_profile = instacard_basket_profiles['customer profile'].value_counts().sort_values(ascending=True).plot.barh(color=['pink','yellowgreen', 'orchid','mediumaquamarine','burlywood', 'salmon'])\n",
    "plt.title(\"Customer Profile distribution\")\n",
    "plt.xlabel(\"Number of Customers\")\n",
    "plt.ylabel(\"Customer Profile\")"
   ]
  },
  {
   "cell_type": "code",
   "execution_count": 88,
   "id": "1fc0b9c1",
   "metadata": {},
   "outputs": [],
   "source": [
    "bar_cust_profile.figure.savefig(os.path.join( path, '04 Analysis','Visualizations', 'bar_cust_profile.png'))"
   ]
  },
  {
   "cell_type": "code",
   "execution_count": 82,
   "id": "795acc58",
   "metadata": {
    "scrolled": true
   },
   "outputs": [
    {
     "data": {
      "image/png": "[encoded data removed]",
      "text/plain": [
       "<Figure size 640x480 with 1 Axes>"
      ]
     },
     "metadata": {},
     "output_type": "display_data"
    }
   ],
   "source": [
    "# Scatter bar showing income of each customer profile \n",
    "\n",
    "scatter_plot_profile = sns.scatterplot(x = 'income', y = 'customer profile', color='cornflowerblue', data = small)"
   ]
  },
  {
   "cell_type": "code",
   "execution_count": 89,
   "id": "462f6721",
   "metadata": {},
   "outputs": [],
   "source": [
    "scatter_plot_profile.figure.savefig(os.path.join( path, '04 Analysis','Visualizations', 'scatter_plot_profile.png'))"
   ]
  },
  {
   "cell_type": "markdown",
   "id": "7816364d",
   "metadata": {},
   "source": [
    "#### Married couples fall into a group that makles the biggest number of customers. It is also the group with highest income. Single parents make the smallest group of customers, and also the one with lowest income."
   ]
  },
  {
   "cell_type": "markdown",
   "id": "e288481b",
   "metadata": {},
   "source": [
    "# 04. Descriptive Analyse of Customer Profiles"
   ]
  },
  {
   "cell_type": "code",
   "execution_count": 20,
   "id": "f38b6648",
   "metadata": {},
   "outputs": [
    {
     "data": {
      "text/html": [
       "<div>\n",
       "<style scoped>\n",
       "    .dataframe tbody tr th:only-of-type {\n",
       "        vertical-align: middle;\n",
       "    }\n",
       "\n",
       "    .dataframe tbody tr th {\n",
       "        vertical-align: top;\n",
       "    }\n",
       "\n",
       "    .dataframe thead tr th {\n",
       "        text-align: left;\n",
       "    }\n",
       "\n",
       "    .dataframe thead tr:last-of-type th {\n",
       "        text-align: right;\n",
       "    }\n",
       "</style>\n",
       "<table border=\"1\" class=\"dataframe\">\n",
       "  <thead>\n",
       "    <tr>\n",
       "      <th></th>\n",
       "      <th colspan=\"4\" halign=\"left\">order_number</th>\n",
       "    </tr>\n",
       "    <tr>\n",
       "      <th></th>\n",
       "      <th>min</th>\n",
       "      <th>mean</th>\n",
       "      <th>max</th>\n",
       "      <th>sum</th>\n",
       "    </tr>\n",
       "    <tr>\n",
       "      <th>customer profile</th>\n",
       "      <th></th>\n",
       "      <th></th>\n",
       "      <th></th>\n",
       "      <th></th>\n",
       "    </tr>\n",
       "  </thead>\n",
       "  <tbody>\n",
       "    <tr>\n",
       "      <th>Married Couple w/ Children</th>\n",
       "      <td>1</td>\n",
       "      <td>17.793478</td>\n",
       "      <td>99</td>\n",
       "      <td>258586392</td>\n",
       "    </tr>\n",
       "    <tr>\n",
       "      <th>Married Couple w/o Children</th>\n",
       "      <td>1</td>\n",
       "      <td>17.749022</td>\n",
       "      <td>99</td>\n",
       "      <td>127989280</td>\n",
       "    </tr>\n",
       "    <tr>\n",
       "      <th>Single Parent (female)</th>\n",
       "      <td>1</td>\n",
       "      <td>18.047580</td>\n",
       "      <td>99</td>\n",
       "      <td>13058796</td>\n",
       "    </tr>\n",
       "    <tr>\n",
       "      <th>Single Parent (male)</th>\n",
       "      <td>1</td>\n",
       "      <td>17.955947</td>\n",
       "      <td>99</td>\n",
       "      <td>13603354</td>\n",
       "    </tr>\n",
       "    <tr>\n",
       "      <th>Single w/o Children (female)</th>\n",
       "      <td>1</td>\n",
       "      <td>18.102320</td>\n",
       "      <td>99</td>\n",
       "      <td>69843873</td>\n",
       "    </tr>\n",
       "    <tr>\n",
       "      <th>Single w/o Children (male)</th>\n",
       "      <td>1</td>\n",
       "      <td>17.814385</td>\n",
       "      <td>99</td>\n",
       "      <td>69144717</td>\n",
       "    </tr>\n",
       "  </tbody>\n",
       "</table>\n",
       "</div>"
      ],
      "text/plain": [
       "                             order_number                          \n",
       "                                      min       mean max        sum\n",
       "customer profile                                                   \n",
       "Married Couple w/ Children              1  17.793478  99  258586392\n",
       "Married Couple w/o Children             1  17.749022  99  127989280\n",
       "Single Parent (female)                  1  18.047580  99   13058796\n",
       "Single Parent (male)                    1  17.955947  99   13603354\n",
       "Single w/o Children (female)            1  18.102320  99   69843873\n",
       "Single w/o Children (male)              1  17.814385  99   69144717"
      ]
     },
     "execution_count": 20,
     "metadata": {},
     "output_type": "execute_result"
    }
   ],
   "source": [
    "# Aggregate the max, mean, and min variables on a customer-profile level for usage frequency\n",
    "\n",
    "instacard_basket_profiles.groupby('customer profile').agg({'order_number':['min', 'mean', 'max', 'sum']})"
   ]
  },
  {
   "cell_type": "code",
   "execution_count": 21,
   "id": "aff006e2",
   "metadata": {},
   "outputs": [
    {
     "data": {
      "text/html": [
       "<div>\n",
       "<style scoped>\n",
       "    .dataframe tbody tr th:only-of-type {\n",
       "        vertical-align: middle;\n",
       "    }\n",
       "\n",
       "    .dataframe tbody tr th {\n",
       "        vertical-align: top;\n",
       "    }\n",
       "\n",
       "    .dataframe thead tr th {\n",
       "        text-align: left;\n",
       "    }\n",
       "\n",
       "    .dataframe thead tr:last-of-type th {\n",
       "        text-align: right;\n",
       "    }\n",
       "</style>\n",
       "<table border=\"1\" class=\"dataframe\">\n",
       "  <thead>\n",
       "    <tr>\n",
       "      <th></th>\n",
       "      <th colspan=\"4\" halign=\"left\">prices</th>\n",
       "    </tr>\n",
       "    <tr>\n",
       "      <th></th>\n",
       "      <th>min</th>\n",
       "      <th>mean</th>\n",
       "      <th>max</th>\n",
       "      <th>sum</th>\n",
       "    </tr>\n",
       "    <tr>\n",
       "      <th>customer profile</th>\n",
       "      <th></th>\n",
       "      <th></th>\n",
       "      <th></th>\n",
       "      <th></th>\n",
       "    </tr>\n",
       "  </thead>\n",
       "  <tbody>\n",
       "    <tr>\n",
       "      <th>Married Couple w/ Children</th>\n",
       "      <td>1.0</td>\n",
       "      <td>12.102113</td>\n",
       "      <td>99999.0</td>\n",
       "      <td>175875767.6</td>\n",
       "    </tr>\n",
       "    <tr>\n",
       "      <th>Married Couple w/o Children</th>\n",
       "      <td>1.0</td>\n",
       "      <td>11.626527</td>\n",
       "      <td>99999.0</td>\n",
       "      <td>83839597.2</td>\n",
       "    </tr>\n",
       "    <tr>\n",
       "      <th>Single Parent (female)</th>\n",
       "      <td>1.0</td>\n",
       "      <td>12.214567</td>\n",
       "      <td>99999.0</td>\n",
       "      <td>8838167.4</td>\n",
       "    </tr>\n",
       "    <tr>\n",
       "      <th>Single Parent (male)</th>\n",
       "      <td>1.0</td>\n",
       "      <td>9.625240</td>\n",
       "      <td>99999.0</td>\n",
       "      <td>7292043.7</td>\n",
       "    </tr>\n",
       "    <tr>\n",
       "      <th>Single w/o Children (female)</th>\n",
       "      <td>1.0</td>\n",
       "      <td>11.664725</td>\n",
       "      <td>99999.0</td>\n",
       "      <td>45005810.1</td>\n",
       "    </tr>\n",
       "    <tr>\n",
       "      <th>Single w/o Children (male)</th>\n",
       "      <td>1.0</td>\n",
       "      <td>12.537981</td>\n",
       "      <td>99999.0</td>\n",
       "      <td>48664895.6</td>\n",
       "    </tr>\n",
       "  </tbody>\n",
       "</table>\n",
       "</div>"
      ],
      "text/plain": [
       "                             prices                                 \n",
       "                                min       mean      max          sum\n",
       "customer profile                                                    \n",
       "Married Couple w/ Children      1.0  12.102113  99999.0  175875767.6\n",
       "Married Couple w/o Children     1.0  11.626527  99999.0   83839597.2\n",
       "Single Parent (female)          1.0  12.214567  99999.0    8838167.4\n",
       "Single Parent (male)            1.0   9.625240  99999.0    7292043.7\n",
       "Single w/o Children (female)    1.0  11.664725  99999.0   45005810.1\n",
       "Single w/o Children (male)      1.0  12.537981  99999.0   48664895.6"
      ]
     },
     "execution_count": 21,
     "metadata": {},
     "output_type": "execute_result"
    }
   ],
   "source": [
    "# Aggregate the max, mean, and min variables on a customer-profile level for expenditure\n",
    "\n",
    "instacard_basket_profiles.groupby('customer profile').agg({'prices':['min', 'mean', 'max', 'sum']})"
   ]
  },
  {
   "cell_type": "code",
   "execution_count": 19,
   "id": "92752378",
   "metadata": {},
   "outputs": [
    {
     "data": {
      "text/html": [
       "<div>\n",
       "<style scoped>\n",
       "    .dataframe tbody tr th:only-of-type {\n",
       "        vertical-align: middle;\n",
       "    }\n",
       "\n",
       "    .dataframe tbody tr th {\n",
       "        vertical-align: top;\n",
       "    }\n",
       "\n",
       "    .dataframe thead tr th {\n",
       "        text-align: left;\n",
       "    }\n",
       "\n",
       "    .dataframe thead tr:last-of-type th {\n",
       "        text-align: right;\n",
       "    }\n",
       "</style>\n",
       "<table border=\"1\" class=\"dataframe\">\n",
       "  <thead>\n",
       "    <tr>\n",
       "      <th></th>\n",
       "      <th colspan=\"4\" halign=\"left\">order_number</th>\n",
       "    </tr>\n",
       "    <tr>\n",
       "      <th></th>\n",
       "      <th>min</th>\n",
       "      <th>mean</th>\n",
       "      <th>max</th>\n",
       "      <th>sum</th>\n",
       "    </tr>\n",
       "    <tr>\n",
       "      <th>household_size</th>\n",
       "      <th></th>\n",
       "      <th></th>\n",
       "      <th></th>\n",
       "      <th></th>\n",
       "    </tr>\n",
       "  </thead>\n",
       "  <tbody>\n",
       "    <tr>\n",
       "      <th>Big Household</th>\n",
       "      <td>1</td>\n",
       "      <td>17.837412</td>\n",
       "      <td>99</td>\n",
       "      <td>138641574</td>\n",
       "    </tr>\n",
       "    <tr>\n",
       "      <th>One-person houshold</th>\n",
       "      <td>1</td>\n",
       "      <td>17.957922</td>\n",
       "      <td>99</td>\n",
       "      <td>138988590</td>\n",
       "    </tr>\n",
       "    <tr>\n",
       "      <th>Small Houshold</th>\n",
       "      <td>1</td>\n",
       "      <td>17.770497</td>\n",
       "      <td>99</td>\n",
       "      <td>274596248</td>\n",
       "    </tr>\n",
       "  </tbody>\n",
       "</table>\n",
       "</div>"
      ],
      "text/plain": [
       "                    order_number                          \n",
       "                             min       mean max        sum\n",
       "household_size                                            \n",
       "Big Household                  1  17.837412  99  138641574\n",
       "One-person houshold            1  17.957922  99  138988590\n",
       "Small Houshold                 1  17.770497  99  274596248"
      ]
     },
     "execution_count": 19,
     "metadata": {},
     "output_type": "execute_result"
    }
   ],
   "source": [
    "# Aggregate the max, mean, and min variables on a household size level for usage frequency\n",
    "\n",
    "instacard_basket_profiles.groupby('household_size').agg({'order_number':['min', 'mean', 'max', 'sum']})"
   ]
  },
  {
   "cell_type": "code",
   "execution_count": 22,
   "id": "dc6ce793",
   "metadata": {},
   "outputs": [
    {
     "data": {
      "text/html": [
       "<div>\n",
       "<style scoped>\n",
       "    .dataframe tbody tr th:only-of-type {\n",
       "        vertical-align: middle;\n",
       "    }\n",
       "\n",
       "    .dataframe tbody tr th {\n",
       "        vertical-align: top;\n",
       "    }\n",
       "\n",
       "    .dataframe thead tr th {\n",
       "        text-align: left;\n",
       "    }\n",
       "\n",
       "    .dataframe thead tr:last-of-type th {\n",
       "        text-align: right;\n",
       "    }\n",
       "</style>\n",
       "<table border=\"1\" class=\"dataframe\">\n",
       "  <thead>\n",
       "    <tr>\n",
       "      <th></th>\n",
       "      <th colspan=\"4\" halign=\"left\">prices</th>\n",
       "    </tr>\n",
       "    <tr>\n",
       "      <th></th>\n",
       "      <th>min</th>\n",
       "      <th>mean</th>\n",
       "      <th>max</th>\n",
       "      <th>sum</th>\n",
       "    </tr>\n",
       "    <tr>\n",
       "      <th>household_size</th>\n",
       "      <th></th>\n",
       "      <th></th>\n",
       "      <th></th>\n",
       "      <th></th>\n",
       "    </tr>\n",
       "  </thead>\n",
       "  <tbody>\n",
       "    <tr>\n",
       "      <th>Big Household</th>\n",
       "      <td>1.0</td>\n",
       "      <td>11.791609</td>\n",
       "      <td>99999.0</td>\n",
       "      <td>91650471.5</td>\n",
       "    </tr>\n",
       "    <tr>\n",
       "      <th>One-person houshold</th>\n",
       "      <td>1.0</td>\n",
       "      <td>12.102657</td>\n",
       "      <td>99999.0</td>\n",
       "      <td>93670705.7</td>\n",
       "    </tr>\n",
       "    <tr>\n",
       "      <th>Small Houshold</th>\n",
       "      <td>1.0</td>\n",
       "      <td>11.920187</td>\n",
       "      <td>99999.0</td>\n",
       "      <td>184195104.4</td>\n",
       "    </tr>\n",
       "  </tbody>\n",
       "</table>\n",
       "</div>"
      ],
      "text/plain": [
       "                    prices                                 \n",
       "                       min       mean      max          sum\n",
       "household_size                                             \n",
       "Big Household          1.0  11.791609  99999.0   91650471.5\n",
       "One-person houshold    1.0  12.102657  99999.0   93670705.7\n",
       "Small Houshold         1.0  11.920187  99999.0  184195104.4"
      ]
     },
     "execution_count": 22,
     "metadata": {},
     "output_type": "execute_result"
    }
   ],
   "source": [
    "# Aggregate the max, mean, and min variables on a household_size level for expenditure\n",
    "\n",
    "instacard_basket_profiles.groupby('household_size').agg({'prices':['min', 'mean', 'max', 'sum']})"
   ]
  },
  {
   "cell_type": "markdown",
   "id": "e015ae9a",
   "metadata": {},
   "source": [
    "# 05. Regions and Department Analysis"
   ]
  },
  {
   "cell_type": "markdown",
   "id": "5ee900ef",
   "metadata": {},
   "source": [
    "## Region"
   ]
  },
  {
   "cell_type": "code",
   "execution_count": 102,
   "id": "32487cd9",
   "metadata": {
    "scrolled": true
   },
   "outputs": [
    {
     "data": {
      "text/plain": [
       "Text(0, 0.5, 'Number of Customers')"
      ]
     },
     "execution_count": 102,
     "metadata": {},
     "output_type": "execute_result"
    },
    {
     "data": {
      "image/png": "[encoded data removed]",
      "text/plain": [
       "<Figure size 640x480 with 1 Axes>"
      ]
     },
     "metadata": {},
     "output_type": "display_data"
    }
   ],
   "source": [
    "# Bar chart of customer distribution in regions\n",
    "\n",
    "bar_cust_region = instacard_basket_profiles['region'].value_counts().sort_values(ascending=True).plot.bar(color=['darkseagreen','lightcoral','lavender', 'skyblue'])\n",
    "plt.title(\"Customer distribution in regions\")\n",
    "plt.xlabel(\"Regions\")\n",
    "plt.ylabel(\"Number of Customers\")"
   ]
  },
  {
   "cell_type": "code",
   "execution_count": 103,
   "id": "125310ae",
   "metadata": {},
   "outputs": [],
   "source": [
    "bar_cust_region.figure.savefig(os.path.join( path, '04 Analysis','Visualizations', 'bar_cust_region.png'))"
   ]
  },
  {
   "cell_type": "code",
   "execution_count": 35,
   "id": "758b2ffb",
   "metadata": {},
   "outputs": [],
   "source": [
    "# Group by \"customer profile\" and \"region\" columns\n",
    "\n",
    "cust_profile_region = instacard_basket_profiles.groupby(['customer profile', 'region']).size().unstack()"
   ]
  },
  {
   "cell_type": "code",
   "execution_count": 41,
   "id": "1531ce5b",
   "metadata": {},
   "outputs": [],
   "source": [
    "# Create Subset\n",
    "\n",
    "cust_profile_region = cust_profile_region.loc[cust_profile_region.sum(axis=1).sort_values(ascending=True).index]\n"
   ]
  },
  {
   "cell_type": "code",
   "execution_count": 79,
   "id": "387da3b4",
   "metadata": {
    "scrolled": false
   },
   "outputs": [
    {
     "data": {
      "text/plain": [
       "Text(0, 0.5, 'Number of Customers')"
      ]
     },
     "execution_count": 79,
     "metadata": {},
     "output_type": "execute_result"
    },
    {
     "data": {
      "image/png": "[encoded data removed]",
      "text/plain": [
       "<Figure size 640x480 with 1 Axes>"
      ]
     },
     "metadata": {},
     "output_type": "display_data"
    }
   ],
   "source": [
    "# Create bar chart\n",
    "\n",
    "bar_cust_prof_region = cust_profile_region.plot.barh(stacked = True, color=['lightcoral', 'darkseagreen','skyblue','lavender'])\n",
    "plt.title(\"Customer Profiles by Region\")\n",
    "plt.xlabel(\"Regions\")\n",
    "plt.ylabel(\"Number of Customers\")"
   ]
  },
  {
   "cell_type": "code",
   "execution_count": 92,
   "id": "5f07c62e",
   "metadata": {},
   "outputs": [],
   "source": [
    "bar_cust_prof_region.figure.savefig(os.path.join( path, '04 Analysis','Visualizations', 'bar_cust_prof_region.png'))"
   ]
  },
  {
   "cell_type": "code",
   "execution_count": 101,
   "id": "4252083f",
   "metadata": {
    "scrolled": true
   },
   "outputs": [
    {
     "data": {
      "text/html": [
       "<div>\n",
       "<style scoped>\n",
       "    .dataframe tbody tr th:only-of-type {\n",
       "        vertical-align: middle;\n",
       "    }\n",
       "\n",
       "    .dataframe tbody tr th {\n",
       "        vertical-align: top;\n",
       "    }\n",
       "\n",
       "    .dataframe thead th {\n",
       "        text-align: right;\n",
       "    }\n",
       "</style>\n",
       "<table border=\"1\" class=\"dataframe\">\n",
       "  <thead>\n",
       "    <tr style=\"text-align: right;\">\n",
       "      <th>region</th>\n",
       "      <th>Midwest</th>\n",
       "      <th>Northeast</th>\n",
       "      <th>South</th>\n",
       "      <th>West</th>\n",
       "    </tr>\n",
       "    <tr>\n",
       "      <th>customer profile</th>\n",
       "      <th></th>\n",
       "      <th></th>\n",
       "      <th></th>\n",
       "      <th></th>\n",
       "    </tr>\n",
       "  </thead>\n",
       "  <tbody>\n",
       "    <tr>\n",
       "      <th>Married Couple w/ Children</th>\n",
       "      <td>3367591</td>\n",
       "      <td>2564228</td>\n",
       "      <td>4854839</td>\n",
       "      <td>3745992</td>\n",
       "    </tr>\n",
       "    <tr>\n",
       "      <th>Married Couple w/o Children</th>\n",
       "      <td>1719671</td>\n",
       "      <td>1289545</td>\n",
       "      <td>2368910</td>\n",
       "      <td>1832935</td>\n",
       "    </tr>\n",
       "    <tr>\n",
       "      <th>Single Parent (female)</th>\n",
       "      <td>171913</td>\n",
       "      <td>118687</td>\n",
       "      <td>254123</td>\n",
       "      <td>178853</td>\n",
       "    </tr>\n",
       "    <tr>\n",
       "      <th>Single Parent (male)</th>\n",
       "      <td>179522</td>\n",
       "      <td>137743</td>\n",
       "      <td>251334</td>\n",
       "      <td>188997</td>\n",
       "    </tr>\n",
       "    <tr>\n",
       "      <th>Single w/o Children (female)</th>\n",
       "      <td>905542</td>\n",
       "      <td>663656</td>\n",
       "      <td>1314256</td>\n",
       "      <td>974829</td>\n",
       "    </tr>\n",
       "    <tr>\n",
       "      <th>Single w/o Children (male)</th>\n",
       "      <td>917274</td>\n",
       "      <td>690826</td>\n",
       "      <td>1267677</td>\n",
       "      <td>1005621</td>\n",
       "    </tr>\n",
       "  </tbody>\n",
       "</table>\n",
       "</div>"
      ],
      "text/plain": [
       "region                        Midwest  Northeast    South     West\n",
       "customer profile                                                  \n",
       "Married Couple w/ Children    3367591    2564228  4854839  3745992\n",
       "Married Couple w/o Children   1719671    1289545  2368910  1832935\n",
       "Single Parent (female)         171913     118687   254123   178853\n",
       "Single Parent (male)           179522     137743   251334   188997\n",
       "Single w/o Children (female)   905542     663656  1314256   974829\n",
       "Single w/o Children (male)     917274     690826  1267677  1005621"
      ]
     },
     "execution_count": 101,
     "metadata": {},
     "output_type": "execute_result"
    }
   ],
   "source": [
    "# Create a crosstab to analyze the relationship between 'Gender' and 'Region'\n",
    "cross_tab_cust_prof_region = pd.crosstab(instacard_basket_profiles['customer profile'], instacard_basket_profiles['region'], dropna=False)\n",
    "\n",
    "# Display the crosstab\n",
    "cross_tab_cust_prof_region"
   ]
  },
  {
   "cell_type": "code",
   "execution_count": 100,
   "id": "004cb964",
   "metadata": {},
   "outputs": [
    {
     "data": {
      "text/html": [
       "<div>\n",
       "<style scoped>\n",
       "    .dataframe tbody tr th:only-of-type {\n",
       "        vertical-align: middle;\n",
       "    }\n",
       "\n",
       "    .dataframe tbody tr th {\n",
       "        vertical-align: top;\n",
       "    }\n",
       "\n",
       "    .dataframe thead th {\n",
       "        text-align: right;\n",
       "    }\n",
       "</style>\n",
       "<table border=\"1\" class=\"dataframe\">\n",
       "  <thead>\n",
       "    <tr style=\"text-align: right;\">\n",
       "      <th>region</th>\n",
       "      <th>Midwest</th>\n",
       "      <th>Northeast</th>\n",
       "      <th>South</th>\n",
       "      <th>West</th>\n",
       "    </tr>\n",
       "    <tr>\n",
       "      <th>household_size</th>\n",
       "      <th></th>\n",
       "      <th></th>\n",
       "      <th></th>\n",
       "      <th></th>\n",
       "    </tr>\n",
       "  </thead>\n",
       "  <tbody>\n",
       "    <tr>\n",
       "      <th>Big Household</th>\n",
       "      <td>1787286</td>\n",
       "      <td>1381233</td>\n",
       "      <td>2585864</td>\n",
       "      <td>2018133</td>\n",
       "    </tr>\n",
       "    <tr>\n",
       "      <th>One-person houshold</th>\n",
       "      <td>1822816</td>\n",
       "      <td>1354482</td>\n",
       "      <td>2581933</td>\n",
       "      <td>1980450</td>\n",
       "    </tr>\n",
       "    <tr>\n",
       "      <th>Small Houshold</th>\n",
       "      <td>3651411</td>\n",
       "      <td>2728970</td>\n",
       "      <td>5143342</td>\n",
       "      <td>3928644</td>\n",
       "    </tr>\n",
       "  </tbody>\n",
       "</table>\n",
       "</div>"
      ],
      "text/plain": [
       "region               Midwest  Northeast    South     West\n",
       "household_size                                           \n",
       "Big Household        1787286    1381233  2585864  2018133\n",
       "One-person houshold  1822816    1354482  2581933  1980450\n",
       "Small Houshold       3651411    2728970  5143342  3928644"
      ]
     },
     "execution_count": 100,
     "metadata": {},
     "output_type": "execute_result"
    }
   ],
   "source": [
    "# Create a crosstab to analyze the relationship between 'Gender' and 'Region'\n",
    "cross_tab_cust_prof_household = pd.crosstab(instacard_basket_profiles['household_size'], instacard_basket_profiles['region'], dropna=False)\n",
    "\n",
    "# Display the crosstab\n",
    "cross_tab_cust_prof_household"
   ]
  },
  {
   "cell_type": "markdown",
   "id": "6687bfd8",
   "metadata": {},
   "source": [
    "#### The region with the highest frequency of orders is the South and the region with the lowest frequency of orders is the Northeast.  Dividing customer profiles across the regions has the same rati in all 4. In all 4 regeions, One-peron household make for the least orders, while Bih household for the most."
   ]
  },
  {
   "cell_type": "markdown",
   "id": "e542cbf0",
   "metadata": {},
   "source": [
    "## Department"
   ]
  },
  {
   "cell_type": "code",
   "execution_count": 54,
   "id": "88f2b2d3",
   "metadata": {},
   "outputs": [],
   "source": [
    "# Grouping the records by department name to see the order count for departments\n",
    "\n",
    "instacard_depart=instacard_basket_profiles.groupby(['department'])['order_id'].agg('nunique').sort_values(ascending=False).rename_axis('department').reset_index(name='order_count')"
   ]
  },
  {
   "cell_type": "code",
   "execution_count": 52,
   "id": "b89f4d3e",
   "metadata": {},
   "outputs": [
    {
     "data": {
      "text/html": [
       "<div>\n",
       "<style scoped>\n",
       "    .dataframe tbody tr th:only-of-type {\n",
       "        vertical-align: middle;\n",
       "    }\n",
       "\n",
       "    .dataframe tbody tr th {\n",
       "        vertical-align: top;\n",
       "    }\n",
       "\n",
       "    .dataframe thead th {\n",
       "        text-align: right;\n",
       "    }\n",
       "</style>\n",
       "<table border=\"1\" class=\"dataframe\">\n",
       "  <thead>\n",
       "    <tr style=\"text-align: right;\">\n",
       "      <th></th>\n",
       "      <th>department</th>\n",
       "      <th>order_count</th>\n",
       "    </tr>\n",
       "  </thead>\n",
       "  <tbody>\n",
       "    <tr>\n",
       "      <th>0</th>\n",
       "      <td>produce</td>\n",
       "      <td>2303683</td>\n",
       "    </tr>\n",
       "    <tr>\n",
       "      <th>1</th>\n",
       "      <td>dairy eggs</td>\n",
       "      <td>2080172</td>\n",
       "    </tr>\n",
       "    <tr>\n",
       "      <th>2</th>\n",
       "      <td>beverages</td>\n",
       "      <td>1391504</td>\n",
       "    </tr>\n",
       "    <tr>\n",
       "      <th>3</th>\n",
       "      <td>snacks</td>\n",
       "      <td>1330617</td>\n",
       "    </tr>\n",
       "    <tr>\n",
       "      <th>4</th>\n",
       "      <td>frozen</td>\n",
       "      <td>1123774</td>\n",
       "    </tr>\n",
       "    <tr>\n",
       "      <th>5</th>\n",
       "      <td>pantry</td>\n",
       "      <td>1064676</td>\n",
       "    </tr>\n",
       "    <tr>\n",
       "      <th>6</th>\n",
       "      <td>bakery</td>\n",
       "      <td>839208</td>\n",
       "    </tr>\n",
       "    <tr>\n",
       "      <th>7</th>\n",
       "      <td>deli</td>\n",
       "      <td>735224</td>\n",
       "    </tr>\n",
       "    <tr>\n",
       "      <th>8</th>\n",
       "      <td>canned goods</td>\n",
       "      <td>647047</td>\n",
       "    </tr>\n",
       "    <tr>\n",
       "      <th>9</th>\n",
       "      <td>dry goods pasta</td>\n",
       "      <td>568596</td>\n",
       "    </tr>\n",
       "    <tr>\n",
       "      <th>10</th>\n",
       "      <td>meat seafood</td>\n",
       "      <td>547289</td>\n",
       "    </tr>\n",
       "    <tr>\n",
       "      <th>11</th>\n",
       "      <td>breakfast</td>\n",
       "      <td>497368</td>\n",
       "    </tr>\n",
       "    <tr>\n",
       "      <th>12</th>\n",
       "      <td>household</td>\n",
       "      <td>447118</td>\n",
       "    </tr>\n",
       "    <tr>\n",
       "      <th>13</th>\n",
       "      <td>personal care</td>\n",
       "      <td>303066</td>\n",
       "    </tr>\n",
       "    <tr>\n",
       "      <th>14</th>\n",
       "      <td>international</td>\n",
       "      <td>210988</td>\n",
       "    </tr>\n",
       "    <tr>\n",
       "      <th>15</th>\n",
       "      <td>babies</td>\n",
       "      <td>172101</td>\n",
       "    </tr>\n",
       "    <tr>\n",
       "      <th>16</th>\n",
       "      <td>alcohol</td>\n",
       "      <td>79655</td>\n",
       "    </tr>\n",
       "    <tr>\n",
       "      <th>17</th>\n",
       "      <td>pets</td>\n",
       "      <td>56367</td>\n",
       "    </tr>\n",
       "    <tr>\n",
       "      <th>18</th>\n",
       "      <td>missing</td>\n",
       "      <td>55779</td>\n",
       "    </tr>\n",
       "    <tr>\n",
       "      <th>19</th>\n",
       "      <td>other</td>\n",
       "      <td>33246</td>\n",
       "    </tr>\n",
       "    <tr>\n",
       "      <th>20</th>\n",
       "      <td>bulk</td>\n",
       "      <td>32698</td>\n",
       "    </tr>\n",
       "  </tbody>\n",
       "</table>\n",
       "</div>"
      ],
      "text/plain": [
       "         department  order_count\n",
       "0           produce      2303683\n",
       "1        dairy eggs      2080172\n",
       "2         beverages      1391504\n",
       "3            snacks      1330617\n",
       "4            frozen      1123774\n",
       "5            pantry      1064676\n",
       "6            bakery       839208\n",
       "7              deli       735224\n",
       "8      canned goods       647047\n",
       "9   dry goods pasta       568596\n",
       "10     meat seafood       547289\n",
       "11        breakfast       497368\n",
       "12        household       447118\n",
       "13    personal care       303066\n",
       "14    international       210988\n",
       "15           babies       172101\n",
       "16          alcohol        79655\n",
       "17             pets        56367\n",
       "18          missing        55779\n",
       "19            other        33246\n",
       "20             bulk        32698"
      ]
     },
     "execution_count": 52,
     "metadata": {},
     "output_type": "execute_result"
    }
   ],
   "source": [
    "instacard_depart"
   ]
  },
  {
   "cell_type": "code",
   "execution_count": 59,
   "id": "8a895db5",
   "metadata": {},
   "outputs": [],
   "source": [
    "# Grouping the records by department name to see the order count for each group\n",
    "\n",
    "instacard_depart_group=instacard_basket_profiles.groupby(['department_group'])['order_id'].agg('nunique').sort_values(ascending=False).rename_axis('department_group').reset_index(name='order_count')"
   ]
  },
  {
   "cell_type": "code",
   "execution_count": 60,
   "id": "86deab9e",
   "metadata": {},
   "outputs": [
    {
     "data": {
      "text/html": [
       "<div>\n",
       "<style scoped>\n",
       "    .dataframe tbody tr th:only-of-type {\n",
       "        vertical-align: middle;\n",
       "    }\n",
       "\n",
       "    .dataframe tbody tr th {\n",
       "        vertical-align: top;\n",
       "    }\n",
       "\n",
       "    .dataframe thead th {\n",
       "        text-align: right;\n",
       "    }\n",
       "</style>\n",
       "<table border=\"1\" class=\"dataframe\">\n",
       "  <thead>\n",
       "    <tr style=\"text-align: right;\">\n",
       "      <th></th>\n",
       "      <th>department_group</th>\n",
       "      <th>order_count</th>\n",
       "    </tr>\n",
       "  </thead>\n",
       "  <tbody>\n",
       "    <tr>\n",
       "      <th>0</th>\n",
       "      <td>Food</td>\n",
       "      <td>3028416</td>\n",
       "    </tr>\n",
       "    <tr>\n",
       "      <th>1</th>\n",
       "      <td>Household_and_Personal</td>\n",
       "      <td>798511</td>\n",
       "    </tr>\n",
       "    <tr>\n",
       "      <th>2</th>\n",
       "      <td>Other</td>\n",
       "      <td>389191</td>\n",
       "    </tr>\n",
       "  </tbody>\n",
       "</table>\n",
       "</div>"
      ],
      "text/plain": [
       "         department_group  order_count\n",
       "0                    Food      3028416\n",
       "1  Household_and_Personal       798511\n",
       "2                   Other       389191"
      ]
     },
     "execution_count": 60,
     "metadata": {},
     "output_type": "execute_result"
    }
   ],
   "source": [
    "instacard_depart_group"
   ]
  },
  {
   "cell_type": "code",
   "execution_count": 96,
   "id": "84e77c8d",
   "metadata": {},
   "outputs": [
    {
     "data": {
      "text/plain": [
       "Text(0, 0.5, 'Groups')"
      ]
     },
     "execution_count": 96,
     "metadata": {},
     "output_type": "execute_result"
    },
    {
     "data": {
      "image/png": "[encoded data removed]",
      "text/plain": [
       "<Figure size 640x480 with 1 Axes>"
      ]
     },
     "metadata": {},
     "output_type": "display_data"
    }
   ],
   "source": [
    "# Bar chart of items in department groups\n",
    "\n",
    "bar_dept_groups = sns.barplot(x='order_count', y='department_group', data=instacard_depart_group, color= 'tan')\n",
    "\n",
    "plt.title(\"Most frequent items ordered\")\n",
    "plt.xlabel(\"Count\")\n",
    "plt.ylabel(\"Groups\")"
   ]
  },
  {
   "cell_type": "code",
   "execution_count": 97,
   "id": "714e6700",
   "metadata": {},
   "outputs": [],
   "source": [
    "bar_dept_groups.figure.savefig(os.path.join( path, '04 Analysis','Visualizations', 'bar_dept_groups.png'))"
   ]
  },
  {
   "cell_type": "code",
   "execution_count": 72,
   "id": "fa233cd1",
   "metadata": {},
   "outputs": [],
   "source": [
    "# Group by \"customer profile\" and \"department_group'\n",
    "\n",
    "cust_profile_dept = instacard_basket_profiles.groupby(['customer profile', 'department_group']).size().unstack()"
   ]
  },
  {
   "cell_type": "code",
   "execution_count": 73,
   "id": "28df081c",
   "metadata": {},
   "outputs": [],
   "source": [
    "# Create Subset\n",
    "\n",
    "cust_profile_dept = cust_profile_dept.loc[cust_profile_dept.sum(axis=1).sort_values(ascending=True).index]\n"
   ]
  },
  {
   "cell_type": "code",
   "execution_count": 95,
   "id": "ecd9dc3e",
   "metadata": {
    "scrolled": true
   },
   "outputs": [
    {
     "data": {
      "text/plain": [
       "Text(0, 0.5, 'Customer Profile')"
      ]
     },
     "execution_count": 95,
     "metadata": {},
     "output_type": "execute_result"
    },
    {
     "data": {
      "image/png": "[encoded data removed]",
      "text/plain": [
       "<Figure size 640x480 with 1 Axes>"
      ]
     },
     "metadata": {},
     "output_type": "display_data"
    }
   ],
   "source": [
    "# Create bar chart\n",
    "\n",
    "bar_cust_prof_dept = cust_profile_dept.plot.barh(stacked = True, color=['peachpuff', 'thistle','powderblue'])\n",
    "plt.title(\"Customer Profiles by Department Group\")\n",
    "plt.xlabel(\"Department Group\")\n",
    "plt.ylabel(\"Customer Profile\")"
   ]
  },
  {
   "cell_type": "code",
   "execution_count": 104,
   "id": "98ef956b",
   "metadata": {},
   "outputs": [],
   "source": [
    "bar_cust_prof_dept.figure.savefig(os.path.join( path, '04 Analysis','Visualizations', 'bar_cust_prof_dept.png'))"
   ]
  },
  {
   "cell_type": "markdown",
   "id": "56f3ef6a",
   "metadata": {},
   "source": [
    "#### For simplicity of the overview, the departments were grouped in bigger entities. We can see that  the group 'Food'  is in higest demand, and group 'Other' in lowest."
   ]
  },
  {
   "cell_type": "code",
   "execution_count": null,
   "id": "a9574e93",
   "metadata": {},
   "outputs": [],
   "source": []
  }
 ],
 "metadata": {
  "kernelspec": {
   "display_name": "Python 3 (ipykernel)",
   "language": "python",
   "name": "python3"
  },
  "language_info": {
   "codemirror_mode": {
    "name": "ipython",
    "version": 3
   },
   "file_extension": ".py",
   "mimetype": "text/x-python",
   "name": "python",
   "nbconvert_exporter": "python",
   "pygments_lexer": "ipython3",
   "version": "3.11.4"
  }
 },
 "nbformat": 4,
 "nbformat_minor": 5
}
