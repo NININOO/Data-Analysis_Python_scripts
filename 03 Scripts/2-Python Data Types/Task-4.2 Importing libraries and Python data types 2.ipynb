{
 "cells": [
  {
   "cell_type": "markdown",
   "id": "ae39a7cb",
   "metadata": {},
   "source": [
    "# Import Libraries"
   ]
  },
  {
   "cell_type": "code",
   "execution_count": 1,
   "id": "9f1a981e",
   "metadata": {},
   "outputs": [],
   "source": [
    "# Import libraries\n",
    "import pandas as pd\n",
    "import numpy as np\n",
    "import os"
   ]
  },
  {
   "cell_type": "markdown",
   "id": "bd691174",
   "metadata": {},
   "source": [
    "# 02. Data types"
   ]
  },
  {
   "cell_type": "code",
   "execution_count": 2,
   "id": "a568f039",
   "metadata": {},
   "outputs": [],
   "source": [
    "x=50"
   ]
  },
  {
   "cell_type": "code",
   "execution_count": 3,
   "id": "2851618f",
   "metadata": {},
   "outputs": [],
   "source": [
    "y=2"
   ]
  },
  {
   "cell_type": "code",
   "execution_count": 4,
   "id": "ae5e42a2",
   "metadata": {},
   "outputs": [
    {
     "data": {
      "text/plain": [
       "100"
      ]
     },
     "execution_count": 4,
     "metadata": {},
     "output_type": "execute_result"
    }
   ],
   "source": [
    "x*y"
   ]
  },
  {
   "cell_type": "code",
   "execution_count": 5,
   "id": "c92ccf4b",
   "metadata": {},
   "outputs": [],
   "source": [
    "x=x+150"
   ]
  },
  {
   "cell_type": "code",
   "execution_count": 12,
   "id": "aed74602",
   "metadata": {},
   "outputs": [
    {
     "name": "stdout",
     "output_type": "stream",
     "text": [
      "200\n"
     ]
    }
   ],
   "source": [
    "print(x)"
   ]
  },
  {
   "cell_type": "code",
   "execution_count": 6,
   "id": "f24a5dae",
   "metadata": {},
   "outputs": [
    {
     "data": {
      "text/plain": [
       "100.0"
      ]
     },
     "execution_count": 6,
     "metadata": {},
     "output_type": "execute_result"
    }
   ],
   "source": [
    "x/y"
   ]
  },
  {
   "cell_type": "code",
   "execution_count": 8,
   "id": "39743888",
   "metadata": {},
   "outputs": [
    {
     "data": {
      "text/plain": [
       "100"
      ]
     },
     "execution_count": 8,
     "metadata": {},
     "output_type": "execute_result"
    }
   ],
   "source": [
    "x-(y*50)"
   ]
  },
  {
   "cell_type": "code",
   "execution_count": 9,
   "id": "ab361b7a",
   "metadata": {},
   "outputs": [],
   "source": [
    "n=13.11"
   ]
  },
  {
   "cell_type": "code",
   "execution_count": 10,
   "id": "ba74bb40",
   "metadata": {},
   "outputs": [],
   "source": [
    "r=21.08"
   ]
  },
  {
   "cell_type": "code",
   "execution_count": 11,
   "id": "3a983d54",
   "metadata": {},
   "outputs": [
    {
     "data": {
      "text/plain": [
       "1.6079328756674294"
      ]
     },
     "execution_count": 11,
     "metadata": {},
     "output_type": "execute_result"
    }
   ],
   "source": [
    "r/n"
   ]
  },
  {
   "cell_type": "code",
   "execution_count": 20,
   "id": "d668d259",
   "metadata": {},
   "outputs": [],
   "source": [
    "a='hair'"
   ]
  },
  {
   "cell_type": "code",
   "execution_count": 21,
   "id": "9c6bfe13",
   "metadata": {},
   "outputs": [],
   "source": [
    "b='style'"
   ]
  },
  {
   "cell_type": "code",
   "execution_count": 22,
   "id": "e337be2c",
   "metadata": {},
   "outputs": [],
   "source": [
    "c='brush'"
   ]
  },
  {
   "cell_type": "code",
   "execution_count": 23,
   "id": "f801c98e",
   "metadata": {},
   "outputs": [
    {
     "data": {
      "text/plain": [
       "str"
      ]
     },
     "execution_count": 23,
     "metadata": {},
     "output_type": "execute_result"
    }
   ],
   "source": [
    "type(a)"
   ]
  },
  {
   "cell_type": "code",
   "execution_count": 24,
   "id": "9053f6fa",
   "metadata": {
    "scrolled": true
   },
   "outputs": [
    {
     "data": {
      "text/plain": [
       "'hairstyle'"
      ]
     },
     "execution_count": 24,
     "metadata": {},
     "output_type": "execute_result"
    }
   ],
   "source": [
    "a+b"
   ]
  },
  {
   "cell_type": "code",
   "execution_count": 25,
   "id": "651f4296",
   "metadata": {},
   "outputs": [
    {
     "data": {
      "text/plain": [
       "'hairbrush'"
      ]
     },
     "execution_count": 25,
     "metadata": {},
     "output_type": "execute_result"
    }
   ],
   "source": [
    "a+c"
   ]
  },
  {
   "cell_type": "code",
   "execution_count": 29,
   "id": "a374c708",
   "metadata": {},
   "outputs": [],
   "source": [
    "d='I love your new '"
   ]
  },
  {
   "cell_type": "code",
   "execution_count": 34,
   "id": "bcaa82bc",
   "metadata": {},
   "outputs": [],
   "source": [
    "e='!'"
   ]
  },
  {
   "cell_type": "code",
   "execution_count": 35,
   "id": "0016210f",
   "metadata": {},
   "outputs": [
    {
     "data": {
      "text/plain": [
       "'I love your new hairstyle!'"
      ]
     },
     "execution_count": 35,
     "metadata": {},
     "output_type": "execute_result"
    }
   ],
   "source": [
    "d+a+b+e"
   ]
  },
  {
   "cell_type": "code",
   "execution_count": 36,
   "id": "2fd163b2",
   "metadata": {},
   "outputs": [
    {
     "data": {
      "text/plain": [
       "'I love your new hairbrush!'"
      ]
     },
     "execution_count": 36,
     "metadata": {},
     "output_type": "execute_result"
    }
   ],
   "source": [
    "d+a+c+e"
   ]
  },
  {
   "cell_type": "code",
   "execution_count": 37,
   "id": "e9a51a68",
   "metadata": {},
   "outputs": [
    {
     "data": {
      "text/plain": [
       "'I love your new hairstyle!I love your new hairstyle!I love your new hairstyle!I love your new hairstyle!I love your new hairstyle!I love your new hairstyle!I love your new hairstyle!I love your new hairstyle!I love your new hairstyle!I love your new hairstyle!I love your new hairstyle!I love your new hairstyle!I love your new hairstyle!I love your new hairstyle!I love your new hairstyle!I love your new hairstyle!I love your new hairstyle!I love your new hairstyle!I love your new hairstyle!I love your new hairstyle!I love your new hairstyle!I love your new hairstyle!I love your new hairstyle!I love your new hairstyle!I love your new hairstyle!I love your new hairstyle!I love your new hairstyle!I love your new hairstyle!I love your new hairstyle!I love your new hairstyle!I love your new hairstyle!I love your new hairstyle!I love your new hairstyle!I love your new hairstyle!I love your new hairstyle!I love your new hairstyle!I love your new hairstyle!I love your new hairstyle!I love your new hairstyle!I love your new hairstyle!I love your new hairstyle!I love your new hairstyle!I love your new hairstyle!I love your new hairstyle!I love your new hairstyle!I love your new hairstyle!I love your new hairstyle!I love your new hairstyle!I love your new hairstyle!I love your new hairstyle!I love your new hairstyle!I love your new hairstyle!I love your new hairstyle!I love your new hairstyle!I love your new hairstyle!I love your new hairstyle!I love your new hairstyle!I love your new hairstyle!I love your new hairstyle!I love your new hairstyle!I love your new hairstyle!I love your new hairstyle!I love your new hairstyle!I love your new hairstyle!I love your new hairstyle!I love your new hairstyle!I love your new hairstyle!I love your new hairstyle!I love your new hairstyle!I love your new hairstyle!I love your new hairstyle!I love your new hairstyle!I love your new hairstyle!I love your new hairstyle!I love your new hairstyle!I love your new hairstyle!I love your new hairstyle!I love your new hairstyle!I love your new hairstyle!I love your new hairstyle!I love your new hairstyle!I love your new hairstyle!I love your new hairstyle!I love your new hairstyle!I love your new hairstyle!I love your new hairstyle!I love your new hairstyle!I love your new hairstyle!I love your new hairstyle!I love your new hairstyle!I love your new hairstyle!I love your new hairstyle!I love your new hairstyle!I love your new hairstyle!I love your new hairstyle!I love your new hairstyle!I love your new hairstyle!I love your new hairstyle!I love your new hairstyle!I love your new hairstyle!'"
      ]
     },
     "execution_count": 37,
     "metadata": {},
     "output_type": "execute_result"
    }
   ],
   "source": [
    "(d+a+b+e)*100"
   ]
  },
  {
   "cell_type": "code",
   "execution_count": null,
   "id": "78fb521a",
   "metadata": {},
   "outputs": [],
   "source": []
  }
 ],
 "metadata": {
  "kernelspec": {
   "display_name": "Python 3 (ipykernel)",
   "language": "python",
   "name": "python3"
  },
  "language_info": {
   "codemirror_mode": {
    "name": "ipython",
    "version": 3
   },
   "file_extension": ".py",
   "mimetype": "text/x-python",
   "name": "python",
   "nbconvert_exporter": "python",
   "pygments_lexer": "ipython3",
   "version": "3.11.4"
  }
 },
 "nbformat": 4,
 "nbformat_minor": 5
}
